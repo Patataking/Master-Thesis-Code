{
 "cells": [
  {
   "cell_type": "code",
   "execution_count": 2,
   "id": "46554c69",
   "metadata": {},
   "outputs": [],
   "source": [
    "import numpy as np\n",
    "import pandas as pd\n",
    "from sklearn.model_selection import train_test_split\n",
    "from sklearn.ensemble import ExtraTreesRegressor\n",
    "from sklearn.metrics import accuracy_score\n",
    "from sklearn.metrics import classification_report"
   ]
  },
  {
   "cell_type": "code",
   "execution_count": 3,
   "id": "06d7359d",
   "metadata": {},
   "outputs": [],
   "source": [
    "data = np.loadtxt(\"C:\\\\Master_Projekt\\\\ai_input2.txt\")"
   ]
  },
  {
   "cell_type": "code",
   "execution_count": 4,
   "id": "d23898c2",
   "metadata": {},
   "outputs": [],
   "source": [
    "X = data[:, :-1]  # Features\n",
    "y = data[:, -1]  # Target variable"
   ]
  },
  {
   "cell_type": "code",
   "execution_count": 5,
   "id": "b940f190",
   "metadata": {},
   "outputs": [],
   "source": [
    "X_train, X_test, y_train, y_test = train_test_split(X, y, test_size=0.2)"
   ]
  },
  {
   "cell_type": "code",
   "execution_count": 6,
   "id": "548010d8",
   "metadata": {},
   "outputs": [
    {
     "data": {
      "text/plain": [
       "ExtraTreesRegressor(criterion='friedman_mse', n_estimators='warn')"
      ]
     },
     "execution_count": 6,
     "metadata": {},
     "output_type": "execute_result"
    }
   ],
   "source": [
    "ExtraTreesRegressor(bootstrap=False, criterion='friedman_mse', max_depth=None,\n",
    "                    max_features='auto', max_leaf_nodes=None,\n",
    "                    min_impurity_decrease=0.0, \n",
    "                    min_samples_leaf=1, min_samples_split=2,\n",
    "                    min_weight_fraction_leaf=0.0, n_estimators='warn',\n",
    "                    n_jobs=None, oob_score=False, random_state=None, verbose=0,\n",
    "                    warm_start=False)"
   ]
  },
  {
   "cell_type": "code",
   "execution_count": 7,
   "id": "bd1b8451",
   "metadata": {},
   "outputs": [
    {
     "data": {
      "text/plain": [
       "ExtraTreesRegressor()"
      ]
     },
     "execution_count": 7,
     "metadata": {},
     "output_type": "execute_result"
    }
   ],
   "source": [
    "etr = ExtraTreesRegressor()\n",
    "etr.fit(X_train, y_train)"
   ]
  },
  {
   "cell_type": "code",
   "execution_count": 8,
   "id": "fcc0e795",
   "metadata": {},
   "outputs": [],
   "source": [
    "y_pred = etr.predict(X_test)"
   ]
  },
  {
   "cell_type": "code",
   "execution_count": 9,
   "id": "c3d22757",
   "metadata": {},
   "outputs": [
    {
     "data": {
      "text/plain": [
       "0.9648325"
      ]
     },
     "execution_count": 9,
     "metadata": {},
     "output_type": "execute_result"
    }
   ],
   "source": [
    "etr.score(X,y)"
   ]
  },
  {
   "cell_type": "code",
   "execution_count": 10,
   "id": "2be244f5",
   "metadata": {},
   "outputs": [],
   "source": [
    "row1 = [[1642.0,13645.0,2845.4867,2220.0,2084.0,2017684.7791010202,1420.3812905776779,1420.4523149690806,691.5]]\n",
    "row2 = [[1651.0,6485.0,2133.5005,2099.0,2075.0,47119.57435718572,217.05958260291112,217.07043639608256,276.0]]\n",
    "row3 = [[1661.0,7186.0,2130.8205,2098.0,2039.0,45066.76935668567,212.27873817165485,212.28935290467507,273.0]]\n",
    "row4 = [[1528.0,14528.0,2095.4517,2011.5,1896.0,253486.37050416044,503.44912540107765,503.4742997454393,332.0]]\n",
    "row5 = [[1496.0,25048.0,2107.5791,1979.0,1842.0,289298.068350025,537.8374648006496,537.8643586909482,373.5]]\n",
    "row6 = [[1549.0,5875.0,2098.9139,2018.0,1918.0,103383.1722040104,321.5164597447384,321.53253677351285,341.0]]\n",
    "row17 = [[1540.0,28141.0,2114.9409,1996.0,1837.0,316266.49585677567,562.3476408834574,562.375760374481,350.0]]\n",
    "row18 = [[1540.0,8239.0,2104.7403,2025.0,1906.0,113218.20487639763,336.46230554983424,336.4791299269505,333.5]]\n",
    "row19 = [[1536.0,10228.0,2144.3379,2092.0,2068.0,79810.14633822381,282.4927703917217,282.50689608967747,292.0]]\n",
    "row20 = [[1555.0,14932.0,2091.1211,2039.0,1887.0,88514.73490828082,297.4993839233789,297.5142600082907,303.0]]\n",
    "row7 = [[1513.0,26264.0,2873.137,2167.0,1869.0,2822719.3587668766,1680.011037711062,1680.0950445635142,879.0]]\n",
    "row8 = [[1592.0,20137.0,2984.9971,2216.5,2145.0,2973507.1472063106,1724.2997989014525,1724.386020358061,1432.5]]\n",
    "row9 = [[1542.0,23370.0,2947.6204,2206.0,1861.0,2954943.788882728,1718.9090419518539,1718.9949938503976,1114.0]]\n",
    "row10 = [[1580.0,23842.0,2943.4652,2196.0,1908.0,2970602.8674757075,1723.4575153420406,1723.543694681312,1148.0]]\n",
    "row11 = [[1586.0,18116.0,2999.9235,2209.0,2220.0,2874318.6987176216,1695.296807891689,1695.3815790899764,1998.5]]\n",
    "row12 = [[1565.0,26771.0,2989.5021,2212.0,1866.0,3009367.5815537455,1734.6661479361353,1734.7528877490724,1815.5]]\n",
    "row13 = [[1577.0,15075.0,2425.0778,2188.0,2128.0,586021.317878948,765.482015299615,765.5202922711768,521.0]]\n",
    "row14 = [[1477.0,13061.0,2423.8555,2229.0,2113.0,475466.05642539257,689.5059896909888,689.5404675763364,572.0]]\n",
    "row15 = [[1595.0,10839.0,2889.7134,2423.0,2123.0,1070308.1542758676,1034.5052554049398,1034.5569845474283,1767.5]]\n",
    "row16 = [[1526.0,15661.0,2417.1411,2183.0,2119.0,562937.4443352235,750.2540573637639,750.2915728803193,501.5]]"
   ]
  },
  {
   "cell_type": "code",
   "execution_count": 11,
   "id": "9487d358",
   "metadata": {},
   "outputs": [
    {
     "name": "stdout",
     "output_type": "stream",
     "text": [
      "sichere Validierungsdaten 0\n",
      "Predicted Class1 : 0\n",
      "Predicted Class2 : 0\n",
      "Predicted Class3 : 0\n",
      "Predicted Class4 : 0\n",
      "Predicted Class5 : 0\n",
      "Predicted Class6 : 0\n",
      "Predicted Class17: 0\n",
      "Predicted Class18: 0\n",
      "Predicted Class19: 0\n",
      "Predicted Class20: 0\n",
      "------------------------------\n",
      "unsichere Validierungsdaten 1\n",
      "Predicted Class7 : 1\n",
      "Predicted Class8 : 0\n",
      "Predicted Class9 : 1\n",
      "Predicted Class10: 1\n",
      "Predicted Class11: 0\n",
      "Predicted Class12: 1\n",
      "Predicted Class13: 0\n",
      "Predicted Class14: 0\n",
      "Predicted Class15: 0\n",
      "Predicted Class16: 0\n"
     ]
    }
   ],
   "source": [
    "print('sichere Validierungsdaten 0')\n",
    "yhat = etr.predict(row1)\n",
    "print('Predicted Class1 : %d' % yhat[0])\n",
    "yhat = etr.predict(row2)\n",
    "print('Predicted Class2 : %d' % yhat[0])\n",
    "yhat = etr.predict(row3)\n",
    "print('Predicted Class3 : %d' % yhat[0])\n",
    "yhat = etr.predict(row4)\n",
    "print('Predicted Class4 : %d' % yhat[0])\n",
    "yhat = etr.predict(row5)\n",
    "print('Predicted Class5 : %d' % yhat[0])\n",
    "yhat = etr.predict(row6)\n",
    "print('Predicted Class6 : %d' % yhat[0])\n",
    "yhat = etr.predict(row17)\n",
    "print('Predicted Class17: %d' % yhat[0])\n",
    "yhat = etr.predict(row18)\n",
    "print('Predicted Class18: %d' % yhat[0])\n",
    "yhat = etr.predict(row19)\n",
    "print('Predicted Class19: %d' % yhat[0])\n",
    "yhat = etr.predict(row20)\n",
    "print('Predicted Class20: %d' % yhat[0])\n",
    "print('------------------------------')\n",
    "print('unsichere Validierungsdaten 1')\n",
    "yhat = etr.predict(row7)\n",
    "print('Predicted Class7 : %d' % yhat[0])\n",
    "yhat = etr.predict(row8)\n",
    "print('Predicted Class8 : %d' % yhat[0])\n",
    "yhat = etr.predict(row9)\n",
    "print('Predicted Class9 : %d' % yhat[0])\n",
    "yhat = etr.predict(row10)\n",
    "print('Predicted Class10: %d' % yhat[0])\n",
    "yhat = etr.predict(row11)\n",
    "print('Predicted Class11: %d' % yhat[0])\n",
    "yhat = etr.predict(row12)\n",
    "print('Predicted Class12: %d' % yhat[0])\n",
    "yhat = etr.predict(row13)\n",
    "print('Predicted Class13: %d' % yhat[0])\n",
    "yhat = etr.predict(row14)\n",
    "print('Predicted Class14: %d' % yhat[0])\n",
    "yhat = etr.predict(row15)\n",
    "print('Predicted Class15: %d' % yhat[0])\n",
    "yhat = etr.predict(row16)\n",
    "print('Predicted Class16: %d' % yhat[0])"
   ]
  },
  {
   "cell_type": "code",
   "execution_count": 1,
   "id": "50b50a6e",
   "metadata": {},
   "outputs": [],
   "source": [
    "#print(classification_report(y_test,etr.predict(X_test)))"
   ]
  },
  {
   "cell_type": "code",
   "execution_count": 8,
   "id": "1f1f4088",
   "metadata": {},
   "outputs": [
    {
     "data": {
      "text/plain": [
       "(<160x4456 sparse matrix of type '<class 'numpy.int64'>'\n",
       " \twith 104555 stored elements in Compressed Sparse Row format>,\n",
       " array([   0,   39,   82,  123,  160,  197,  238,  289,  342,  379,  420,\n",
       "         463,  508,  559,  592,  627,  686,  737,  780,  833,  874,  927,\n",
       "         968, 1013, 1056, 1095, 1132, 1173, 1220, 1273, 1314, 1355, 1402,\n",
       "        1455, 1496, 1541, 1580, 1619, 1674, 1709, 1746, 1793, 1840, 1885,\n",
       "        1926, 1973, 2014, 2061, 2102, 2145, 2202, 2251, 2284, 2327, 2366,\n",
       "        2413, 2458, 2515, 2562, 2611, 2658, 2699, 2748, 2789, 2838, 2875,\n",
       "        2924, 2971, 3020, 3061, 3110, 3161, 3208, 3251, 3304, 3337, 3378,\n",
       "        3427, 3468, 3519, 3572, 3613, 3660, 3705, 3736, 3777, 3816, 3871,\n",
       "        3916, 3969, 4020, 4055, 4092, 4145, 4184, 4231, 4274, 4315, 4356,\n",
       "        4405, 4456]))"
      ]
     },
     "execution_count": 8,
     "metadata": {},
     "output_type": "execute_result"
    }
   ],
   "source": [
    "etr.decision_path(X)"
   ]
  },
  {
   "cell_type": "code",
   "execution_count": null,
   "id": "2a336b50",
   "metadata": {},
   "outputs": [],
   "source": []
  }
 ],
 "metadata": {
  "kernelspec": {
   "display_name": "Python 3 (ipykernel)",
   "language": "python",
   "name": "python3"
  },
  "language_info": {
   "codemirror_mode": {
    "name": "ipython",
    "version": 3
   },
   "file_extension": ".py",
   "mimetype": "text/x-python",
   "name": "python",
   "nbconvert_exporter": "python",
   "pygments_lexer": "ipython3",
   "version": "3.8.16"
  }
 },
 "nbformat": 4,
 "nbformat_minor": 5
}
