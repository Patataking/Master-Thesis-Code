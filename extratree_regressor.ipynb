{
 "cells": [
  {
   "cell_type": "code",
   "execution_count": 1,
   "id": "46554c69",
   "metadata": {},
   "outputs": [],
   "source": [
    "import numpy as np\n",
    "import pandas as pd\n",
    "from sklearn.model_selection import train_test_split\n",
    "from sklearn.ensemble import ExtraTreesRegressor\n",
    "from sklearn.metrics import accuracy_score\n",
    "from sklearn.metrics import classification_report"
   ]
  },
  {
   "cell_type": "code",
   "execution_count": 2,
   "id": "06d7359d",
   "metadata": {},
   "outputs": [],
   "source": [
    "data = np.loadtxt(\"C:\\\\Master_Thesis\\\\ai_input_07_05.txt\")"
   ]
  },
  {
   "cell_type": "code",
   "execution_count": 3,
   "id": "d23898c2",
   "metadata": {},
   "outputs": [],
   "source": [
    "X = data[:, :-1]  # Features\n",
    "y = data[:, -1]  # Target variable"
   ]
  },
  {
   "cell_type": "code",
   "execution_count": 4,
   "id": "b940f190",
   "metadata": {},
   "outputs": [],
   "source": [
    "X_train, X_test, y_train, y_test = train_test_split(X, y, test_size=0.2)"
   ]
  },
  {
   "cell_type": "code",
   "execution_count": 5,
   "id": "548010d8",
   "metadata": {},
   "outputs": [
    {
     "data": {
      "text/plain": [
       "ExtraTreesRegressor(criterion='friedman_mse', n_estimators='warn')"
      ]
     },
     "execution_count": 5,
     "metadata": {},
     "output_type": "execute_result"
    }
   ],
   "source": [
    "ExtraTreesRegressor(bootstrap=False, criterion='friedman_mse', max_depth=None,\n",
    "                    max_features='auto', max_leaf_nodes=None,\n",
    "                    min_impurity_decrease=0.0, \n",
    "                    min_samples_leaf=1, min_samples_split=2,\n",
    "                    min_weight_fraction_leaf=0.0, n_estimators='warn',\n",
    "                    n_jobs=None, oob_score=False, random_state=None, verbose=0,\n",
    "                    warm_start=False)"
   ]
  },
  {
   "cell_type": "code",
   "execution_count": 6,
   "id": "bd1b8451",
   "metadata": {},
   "outputs": [
    {
     "data": {
      "text/plain": [
       "ExtraTreesRegressor()"
      ]
     },
     "execution_count": 6,
     "metadata": {},
     "output_type": "execute_result"
    }
   ],
   "source": [
    "etr = ExtraTreesRegressor()\n",
    "etr.fit(X_train, y_train)"
   ]
  },
  {
   "cell_type": "code",
   "execution_count": 7,
   "id": "fcc0e795",
   "metadata": {},
   "outputs": [],
   "source": [
    "y_pred = etr.predict(X_test)"
   ]
  },
  {
   "cell_type": "code",
   "execution_count": 8,
   "id": "c3d22757",
   "metadata": {},
   "outputs": [
    {
     "data": {
      "text/plain": [
       "0.990478"
      ]
     },
     "execution_count": 8,
     "metadata": {},
     "output_type": "execute_result"
    }
   ],
   "source": [
    "etr.score(X,y)"
   ]
  },
  {
   "cell_type": "code",
   "execution_count": 9,
   "id": "2be244f5",
   "metadata": {},
   "outputs": [],
   "source": [
    "row1 = [[240.0,2199.0,312.4696,290.0,264.0,6696.358911731173,81.82719154315392,81.83128320960861,64.0]]\n",
    "row2 = [[241.0,2440.0,311.2977,288.0,262.0,7715.387413451344,87.83288606615406,87.83727803985813,62.0]]\n",
    "row3 = [[241.0,2605.0,310.7722,287.0,264.0,6416.194726632663,80.09714793399326,80.1011530917793,62.0]]\n",
    "row4 = [[239.0,1905.0,311.9573,289.0,265.0,6518.803357045704,80.7350696829451,80.73910673921098,62.0]]\n",
    "row5 = [[235.0,2216.0,311.456,289.0,265.0,6712.029466946694,81.92287997867263,81.92697642990795,63.0]]\n",
    "row6 = [[239.0,2263.0,312.7878,289.0,267.0,7556.587029862986,86.92428527839616,86.92863181865332,62.0]]\n",
    "row7 = [[238.0,2208.0,313.9244,290.0,265.0,8294.525937233724,91.06973418562283,91.07428801387208,63.0]]\n",
    "row8 = [[239.0,2935.0,315.7533,291.0,267.0,11372.507089818982,106.63662522374759,106.64195745492945,64.0]]\n",
    "row9 = [[239.0,2253.0,310.1877,288.0,271.0,6467.485817291729,80.41665914914645,80.42068028369151,60.0]]\n",
    "row10 = [[241.0,3318.0,315.9451,291.0,267.0,10026.26511250125,100.12623275640605,100.13123944354854,65.0]]\n",
    "row11 = [[237.0,2501.0,308.3515,285.0,262.0,6365.959943744375,79.78297655358567,79.78696600162445,63.0]]\n",
    "row12 = [[237.0,2702.0,310.1264,287.0,263.0,8041.272950335033,89.66866132066431,89.67314509001585,65.0]]\n",
    "row13 = [[236.0,3680.0,308.5955,285.0,261.0,9049.717051455145,95.12524417708477,95.13000079604302,62.0]]\n",
    "row14 = [[234.0,1731.0,308.1144,286.0,264.0,5942.309943634364,77.08252533901572,77.08637975436623,62.0]]\n",
    "row15 = [[237.0,3285.0,310.2178,289.0,265.0,8022.948057965797,89.56643212253127,89.5709107800395,63.0]]\n",
    "row16 = [[238.0,3487.0,308.0708,285.0,263.0,8574.266013961396,92.59270266797486,92.59733265035985,64.0]]\n",
    "row17 = [[236.0,3411.0,307.0119,285.0,267.0,7501.39509789979,86.60626396739441,86.61059460539335,61.0]]\n",
    "row18 = [[236.0,2319.0,309.4348,286.0,261.0,8373.029651925193,91.49968496645221,91.50426029385295,61.0]]\n",
    "row19 = [[235.0,2336.0,309.0989,288.0,264.0,7191.49506829683,84.79844290309816,84.80268314326399,63.0]]\n",
    "row20 = [[233.0,2196.0,309.3771,288.0,265.0,6672.448740464047,81.68097388982333,81.685058244847,63.0]]"
   ]
  },
  {
   "cell_type": "code",
   "execution_count": 10,
   "id": "9487d358",
   "metadata": {},
   "outputs": [
    {
     "name": "stdout",
     "output_type": "stream",
     "text": [
      "sichere Validierungsdaten 0\n",
      "Predicted Class1 : 0\n",
      "Predicted Class2 : 0\n",
      "Predicted Class3 : 0\n",
      "Predicted Class4 : 0\n",
      "Predicted Class5 : 0\n",
      "Predicted Class6 : 0\n",
      "Predicted Class7 : 0\n",
      "Predicted Class8 : 0\n",
      "Predicted Class9 : 0\n",
      "------------------------------\n",
      "unsichere Validierungsdaten 1\n",
      "Predicted Class10: 0\n",
      "Predicted Class11: 1\n",
      "Predicted Class12: 0\n",
      "Predicted Class13: 0\n",
      "Predicted Class14: 0\n",
      "Predicted Class15: 0\n",
      "Predicted Class16: 0\n",
      "Predicted Class17: 0\n",
      "Predicted Class18: 0\n",
      "Predicted Class19: 0\n",
      "Predicted Class20: 0\n"
     ]
    }
   ],
   "source": [
    "print('sichere Validierungsdaten 0')\n",
    "yhat = etr.predict(row1)\n",
    "print('Predicted Class1 : %d' % yhat[0])\n",
    "yhat = etr.predict(row2)\n",
    "print('Predicted Class2 : %d' % yhat[0])\n",
    "yhat = etr.predict(row3)\n",
    "print('Predicted Class3 : %d' % yhat[0])\n",
    "yhat = etr.predict(row4)\n",
    "print('Predicted Class4 : %d' % yhat[0])\n",
    "yhat = etr.predict(row5)\n",
    "print('Predicted Class5 : %d' % yhat[0])\n",
    "yhat = etr.predict(row6)\n",
    "print('Predicted Class6 : %d' % yhat[0])\n",
    "yhat = etr.predict(row7)\n",
    "print('Predicted Class7 : %d' % yhat[0])\n",
    "yhat = etr.predict(row8)\n",
    "print('Predicted Class8 : %d' % yhat[0])\n",
    "yhat = etr.predict(row9)\n",
    "print('Predicted Class9 : %d' % yhat[0])\n",
    "yhat = etr.predict(row10)\n",
    "print('------------------------------')\n",
    "print('unsichere Validierungsdaten 1')\n",
    "print('Predicted Class10: %d' % yhat[0])\n",
    "yhat = etr.predict(row11)\n",
    "print('Predicted Class11: %d' % yhat[0])\n",
    "yhat = etr.predict(row12)\n",
    "print('Predicted Class12: %d' % yhat[0])\n",
    "yhat = etr.predict(row13)\n",
    "print('Predicted Class13: %d' % yhat[0])\n",
    "yhat = etr.predict(row14)\n",
    "print('Predicted Class14: %d' % yhat[0])\n",
    "yhat = etr.predict(row15)\n",
    "print('Predicted Class15: %d' % yhat[0])\n",
    "yhat = etr.predict(row16)\n",
    "print('Predicted Class16: %d' % yhat[0])\n",
    "yhat = etr.predict(row17)\n",
    "print('Predicted Class17: %d' % yhat[0])\n",
    "yhat = etr.predict(row18)\n",
    "print('Predicted Class18: %d' % yhat[0])\n",
    "yhat = etr.predict(row19)\n",
    "print('Predicted Class19: %d' % yhat[0])\n",
    "yhat = etr.predict(row20)\n",
    "print('Predicted Class20: %d' % yhat[0])"
   ]
  },
  {
   "cell_type": "code",
   "execution_count": 1,
   "id": "50b50a6e",
   "metadata": {},
   "outputs": [],
   "source": [
    "#print(classification_report(y_test,etr.predict(X_test)))"
   ]
  },
  {
   "cell_type": "code",
   "execution_count": 8,
   "id": "1f1f4088",
   "metadata": {},
   "outputs": [
    {
     "data": {
      "text/plain": [
       "(<160x4456 sparse matrix of type '<class 'numpy.int64'>'\n",
       " \twith 104555 stored elements in Compressed Sparse Row format>,\n",
       " array([   0,   39,   82,  123,  160,  197,  238,  289,  342,  379,  420,\n",
       "         463,  508,  559,  592,  627,  686,  737,  780,  833,  874,  927,\n",
       "         968, 1013, 1056, 1095, 1132, 1173, 1220, 1273, 1314, 1355, 1402,\n",
       "        1455, 1496, 1541, 1580, 1619, 1674, 1709, 1746, 1793, 1840, 1885,\n",
       "        1926, 1973, 2014, 2061, 2102, 2145, 2202, 2251, 2284, 2327, 2366,\n",
       "        2413, 2458, 2515, 2562, 2611, 2658, 2699, 2748, 2789, 2838, 2875,\n",
       "        2924, 2971, 3020, 3061, 3110, 3161, 3208, 3251, 3304, 3337, 3378,\n",
       "        3427, 3468, 3519, 3572, 3613, 3660, 3705, 3736, 3777, 3816, 3871,\n",
       "        3916, 3969, 4020, 4055, 4092, 4145, 4184, 4231, 4274, 4315, 4356,\n",
       "        4405, 4456]))"
      ]
     },
     "execution_count": 8,
     "metadata": {},
     "output_type": "execute_result"
    }
   ],
   "source": [
    "etr.decision_path(X)"
   ]
  },
  {
   "cell_type": "code",
   "execution_count": null,
   "id": "2a336b50",
   "metadata": {},
   "outputs": [],
   "source": []
  }
 ],
 "metadata": {
  "kernelspec": {
   "display_name": "Python 3 (ipykernel)",
   "language": "python",
   "name": "python3"
  },
  "language_info": {
   "codemirror_mode": {
    "name": "ipython",
    "version": 3
   },
   "file_extension": ".py",
   "mimetype": "text/x-python",
   "name": "python",
   "nbconvert_exporter": "python",
   "pygments_lexer": "ipython3",
   "version": "3.8.16"
  }
 },
 "nbformat": 4,
 "nbformat_minor": 5
}
