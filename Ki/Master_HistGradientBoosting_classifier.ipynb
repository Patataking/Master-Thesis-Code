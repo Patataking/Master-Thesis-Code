{
 "cells": [
  {
   "cell_type": "code",
   "execution_count": 1,
   "id": "cd8f263f",
   "metadata": {},
   "outputs": [],
   "source": [
    "import numpy as np\n",
    "import pandas as pd\n",
    "from sklearn.model_selection import train_test_split\n",
    "from sklearn.ensemble import HistGradientBoostingClassifier\n",
    "from sklearn.metrics import accuracy_score\n",
    "from sklearn.metrics import classification_report"
   ]
  },
  {
   "cell_type": "code",
   "execution_count": 102,
   "id": "83ade662",
   "metadata": {},
   "outputs": [],
   "source": [
    "#data = np.loadtxt(\"C:\\\\Master_Thesis\\\\ai_input_07_05.txt\")\n",
    "#data = np.loadtxt(\"C:\\\\Master_Thesis\\\\Netzwerk\\\\Daten\\\\ai_network_input.txt\")\n",
    "data = np.loadtxt(\"C:\\\\Master_Thesis\\\\ai_input_network_2.txt\")"
   ]
  },
  {
   "cell_type": "code",
   "execution_count": 103,
   "id": "b213477e",
   "metadata": {},
   "outputs": [],
   "source": [
    "X = data[:, :-1]  # Features\n",
    "y = data[:, -1]  # Target variable"
   ]
  },
  {
   "cell_type": "code",
   "execution_count": 104,
   "id": "52ef4b9e",
   "metadata": {},
   "outputs": [],
   "source": [
    "X_train, X_test, y_train, y_test = train_test_split(X, y, test_size=0.2)"
   ]
  },
  {
   "cell_type": "code",
   "execution_count": 105,
   "id": "ec69ad09",
   "metadata": {},
   "outputs": [],
   "source": [
    "gbr = HistGradientBoostingClassifier()"
   ]
  },
  {
   "cell_type": "code",
   "execution_count": 106,
   "id": "314af400",
   "metadata": {},
   "outputs": [
    {
     "data": {
      "text/plain": [
       "HistGradientBoostingClassifier()"
      ]
     },
     "execution_count": 106,
     "metadata": {},
     "output_type": "execute_result"
    }
   ],
   "source": [
    "gbr.fit(X_train, y_train)"
   ]
  },
  {
   "cell_type": "code",
   "execution_count": 107,
   "id": "5de06d81",
   "metadata": {},
   "outputs": [],
   "source": [
    "y_pred = gbr.predict(X_test)"
   ]
  },
  {
   "cell_type": "code",
   "execution_count": 108,
   "id": "e8f83e61",
   "metadata": {},
   "outputs": [
    {
     "name": "stdout",
     "output_type": "stream",
     "text": [
      "Accuracy: 0.8333333333333334\n"
     ]
    }
   ],
   "source": [
    "accuracy = accuracy_score(y_test, y_pred)\n",
    "print(\"Accuracy:\", accuracy)"
   ]
  },
  {
   "cell_type": "code",
   "execution_count": 109,
   "id": "0b080d6a",
   "metadata": {},
   "outputs": [],
   "source": [
    "valid_data = np.loadtxt(\"C:\\\\Master_Thesis\\\\network_valid_secure_input2.txt\")"
   ]
  },
  {
   "cell_type": "code",
   "execution_count": 110,
   "id": "76a0539b",
   "metadata": {},
   "outputs": [
    {
     "name": "stdout",
     "output_type": "stream",
     "text": [
      "Predicted Class : 1\n",
      "Predicted Class : 1\n",
      "Predicted Class : 1\n",
      "Predicted Class : 0\n",
      "Predicted Class : 0\n",
      "Predicted Class : 1\n",
      "Predicted Class : 0\n",
      "Predicted Class : 0\n",
      "Predicted Class : 0\n",
      "Predicted Class : 0\n",
      "Predicted Class : 0\n",
      "Predicted Class : 0\n",
      "Predicted Class : 1\n",
      "Predicted Class : 1\n",
      "Predicted Class : 1\n",
      "sicher:  8\n",
      "53.333333333333336\n"
     ]
    }
   ],
   "source": [
    "sicher = []\n",
    "#valid_data = valid_data[ :-1]\n",
    "for X in valid_data:\n",
    "    X = X.reshape(1,-1)\n",
    "    yhat = gbr.predict(X)\n",
    "    if yhat == 0:\n",
    "        sicher.append(X)\n",
    "    print('Predicted Class : %d' % yhat[0])\n",
    "print ('sicher: ' , len(sicher))\n",
    "print (len(sicher)*100/15)"
   ]
  },
  {
   "cell_type": "code",
   "execution_count": 111,
   "id": "2548274b",
   "metadata": {},
   "outputs": [],
   "source": [
    "valid_data = np.loadtxt(\"C:\\\\Master_Thesis\\\\network_valid_insecure_input2.txt\")"
   ]
  },
  {
   "cell_type": "code",
   "execution_count": 112,
   "id": "07ac701a",
   "metadata": {},
   "outputs": [
    {
     "name": "stdout",
     "output_type": "stream",
     "text": [
      "Predicted Class1 : 1\n",
      "Predicted Class1 : 1\n",
      "Predicted Class1 : 1\n",
      "Predicted Class1 : 1\n",
      "Predicted Class1 : 1\n",
      "Predicted Class1 : 1\n",
      "Predicted Class1 : 1\n",
      "Predicted Class1 : 1\n",
      "Predicted Class1 : 0\n",
      "Predicted Class1 : 1\n",
      "Predicted Class1 : 1\n",
      "Predicted Class1 : 1\n",
      "Predicted Class1 : 1\n",
      "Predicted Class1 : 1\n",
      "Predicted Class1 : 1\n",
      "unsicher:  14\n",
      "93.33333333333333\n"
     ]
    }
   ],
   "source": [
    "unsicher = []\n",
    "#valid_data = valid_data[:50, :-1]\n",
    "for V in valid_data:\n",
    "    V = V.reshape(1,-1)\n",
    "    yhat = gbr.predict(V)\n",
    "    if yhat[0] == 1:\n",
    "        unsicher.append(V)\n",
    "    print('Predicted Class1 : %d' % yhat[0])\n",
    "print ('unsicher: ' , len(unsicher))\n",
    "print (len(unsicher)*100/15)"
   ]
  },
  {
   "cell_type": "code",
   "execution_count": 13,
   "id": "388635e3",
   "metadata": {},
   "outputs": [],
   "source": [
    "valid_data = np.loadtxt(\"C:\\\\Master_Thesis\\\\local_valid_secure_input.txt\")"
   ]
  },
  {
   "cell_type": "code",
   "execution_count": 14,
   "id": "f9e8c3e6",
   "metadata": {},
   "outputs": [
    {
     "name": "stdout",
     "output_type": "stream",
     "text": [
      "Predicted Class : 0\n",
      "Predicted Class : 0\n",
      "Predicted Class : 0\n",
      "Predicted Class : 1\n",
      "Predicted Class : 0\n",
      "Predicted Class : 0\n",
      "Predicted Class : 0\n",
      "Predicted Class : 0\n",
      "Predicted Class : 0\n",
      "Predicted Class : 0\n",
      "Predicted Class : 0\n",
      "Predicted Class : 0\n",
      "Predicted Class : 0\n",
      "Predicted Class : 0\n",
      "Predicted Class : 0\n",
      "sicher:  14\n",
      "93.33333333333333\n"
     ]
    }
   ],
   "source": [
    "sicher = []\n",
    "#valid_data = valid_data[ :-1]\n",
    "for X in valid_data:\n",
    "    X = X.reshape(1,-1)\n",
    "    yhat = gbr.predict(X)\n",
    "    if yhat == 0:\n",
    "        sicher.append(X)\n",
    "    print('Predicted Class : %d' % yhat[0])\n",
    "print ('sicher: ' , len(sicher))\n",
    "print (len(sicher)*100/15)"
   ]
  },
  {
   "cell_type": "code",
   "execution_count": 15,
   "id": "acfdc775",
   "metadata": {},
   "outputs": [],
   "source": [
    "valid_data = np.loadtxt(\"C:\\\\Master_Thesis\\\\local_valid_insecure_input.txt\")"
   ]
  },
  {
   "cell_type": "code",
   "execution_count": 16,
   "id": "3e027a1e",
   "metadata": {},
   "outputs": [
    {
     "name": "stdout",
     "output_type": "stream",
     "text": [
      "Predicted Class1 : 1\n",
      "Predicted Class1 : 0\n",
      "Predicted Class1 : 1\n",
      "Predicted Class1 : 1\n",
      "Predicted Class1 : 1\n",
      "Predicted Class1 : 1\n",
      "Predicted Class1 : 1\n",
      "Predicted Class1 : 1\n",
      "Predicted Class1 : 1\n",
      "Predicted Class1 : 1\n",
      "Predicted Class1 : 1\n",
      "Predicted Class1 : 1\n",
      "Predicted Class1 : 1\n",
      "Predicted Class1 : 1\n",
      "Predicted Class1 : 1\n",
      "unsicher:  14\n",
      "93.33333333333333\n"
     ]
    }
   ],
   "source": [
    "unsicher = []\n",
    "#valid_data = valid_data[:50, :-1]\n",
    "for V in valid_data:\n",
    "    V = V.reshape(1,-1)\n",
    "    yhat = gbr.predict(V)\n",
    "    if yhat[0] == 1:\n",
    "        unsicher.append(V)\n",
    "    print('Predicted Class1 : %d' % yhat[0])\n",
    "print ('unsicher: ' , len(unsicher))\n",
    "print (len(unsicher)*100/15)"
   ]
  },
  {
   "cell_type": "code",
   "execution_count": null,
   "id": "c7868775",
   "metadata": {},
   "outputs": [],
   "source": []
  },
  {
   "cell_type": "code",
   "execution_count": null,
   "id": "07a79e9f",
   "metadata": {},
   "outputs": [],
   "source": []
  },
  {
   "cell_type": "code",
   "execution_count": 9,
   "id": "fafab1b3",
   "metadata": {},
   "outputs": [],
   "source": [
    "valid_data = np.loadtxt(\"C:\\\\Master_Thesis\\\\Daten\\\\Timing_sicher\\\\statistics_valid_secure_07_05.txt\")"
   ]
  },
  {
   "cell_type": "code",
   "execution_count": 10,
   "id": "46e4e0c2",
   "metadata": {},
   "outputs": [
    {
     "name": "stdout",
     "output_type": "stream",
     "text": [
      "Predicted Class : 0\n",
      "Predicted Class : 0\n",
      "Predicted Class : 0\n",
      "Predicted Class : 0\n",
      "Predicted Class : 1\n",
      "Predicted Class : 0\n",
      "Predicted Class : 0\n",
      "Predicted Class : 0\n",
      "Predicted Class : 0\n",
      "Predicted Class : 0\n",
      "Predicted Class : 0\n",
      "Predicted Class : 0\n",
      "Predicted Class : 0\n",
      "Predicted Class : 0\n",
      "Predicted Class : 0\n",
      "Predicted Class : 0\n",
      "Predicted Class : 0\n",
      "Predicted Class : 0\n",
      "Predicted Class : 1\n",
      "Predicted Class : 0\n",
      "Predicted Class : 0\n",
      "Predicted Class : 0\n",
      "Predicted Class : 0\n",
      "Predicted Class : 0\n",
      "Predicted Class : 0\n",
      "Predicted Class : 0\n",
      "Predicted Class : 0\n",
      "Predicted Class : 0\n",
      "Predicted Class : 0\n",
      "Predicted Class : 0\n",
      "Predicted Class : 1\n",
      "Predicted Class : 0\n",
      "Predicted Class : 0\n",
      "Predicted Class : 0\n",
      "Predicted Class : 0\n",
      "Predicted Class : 0\n",
      "Predicted Class : 0\n",
      "Predicted Class : 0\n",
      "Predicted Class : 0\n",
      "Predicted Class : 0\n",
      "Predicted Class : 0\n",
      "Predicted Class : 1\n",
      "Predicted Class : 0\n",
      "Predicted Class : 0\n",
      "Predicted Class : 0\n",
      "Predicted Class : 0\n",
      "Predicted Class : 0\n",
      "Predicted Class : 0\n",
      "Predicted Class : 0\n",
      "Predicted Class : 0\n",
      "sicher:  46\n",
      "92.0\n"
     ]
    }
   ],
   "source": [
    "sicher = []\n",
    "valid_data = valid_data[:50, :-1]\n",
    "for X in valid_data:\n",
    "    X = X.reshape(1,-1)\n",
    "    yhat = gbr.predict(X)\n",
    "    if yhat == 0:\n",
    "        sicher.append(X)\n",
    "    print('Predicted Class : %d' % yhat[0])\n",
    "print ('sicher: ' , len(sicher))\n",
    "print (len(sicher)*100/50)"
   ]
  },
  {
   "cell_type": "code",
   "execution_count": 11,
   "id": "5eb2ca26",
   "metadata": {},
   "outputs": [],
   "source": [
    "valid_data = np.loadtxt(\"C:\\\\Master_Thesis\\\\Daten\\\\Timing_unsicher\\\\statistics_valid_insecure_07_05.txt\")"
   ]
  },
  {
   "cell_type": "code",
   "execution_count": 12,
   "id": "f9de74d0",
   "metadata": {},
   "outputs": [
    {
     "name": "stdout",
     "output_type": "stream",
     "text": [
      "Predicted Class1 : 1\n",
      "Predicted Class1 : 1\n",
      "Predicted Class1 : 1\n",
      "Predicted Class1 : 1\n",
      "Predicted Class1 : 1\n",
      "Predicted Class1 : 1\n",
      "Predicted Class1 : 1\n",
      "Predicted Class1 : 1\n",
      "Predicted Class1 : 1\n",
      "Predicted Class1 : 1\n",
      "Predicted Class1 : 1\n",
      "Predicted Class1 : 1\n",
      "Predicted Class1 : 1\n",
      "Predicted Class1 : 1\n",
      "Predicted Class1 : 1\n",
      "Predicted Class1 : 1\n",
      "Predicted Class1 : 1\n",
      "Predicted Class1 : 1\n",
      "Predicted Class1 : 1\n",
      "Predicted Class1 : 1\n",
      "Predicted Class1 : 1\n",
      "Predicted Class1 : 1\n",
      "Predicted Class1 : 1\n",
      "Predicted Class1 : 1\n",
      "Predicted Class1 : 1\n",
      "Predicted Class1 : 1\n",
      "Predicted Class1 : 1\n",
      "Predicted Class1 : 1\n",
      "Predicted Class1 : 1\n",
      "Predicted Class1 : 1\n",
      "Predicted Class1 : 1\n",
      "Predicted Class1 : 1\n",
      "Predicted Class1 : 1\n",
      "Predicted Class1 : 1\n",
      "Predicted Class1 : 1\n",
      "Predicted Class1 : 1\n",
      "Predicted Class1 : 1\n",
      "Predicted Class1 : 1\n",
      "Predicted Class1 : 1\n",
      "Predicted Class1 : 1\n",
      "Predicted Class1 : 1\n",
      "Predicted Class1 : 1\n",
      "Predicted Class1 : 1\n",
      "Predicted Class1 : 1\n",
      "Predicted Class1 : 1\n",
      "Predicted Class1 : 1\n",
      "Predicted Class1 : 1\n",
      "Predicted Class1 : 1\n",
      "Predicted Class1 : 0\n",
      "Predicted Class1 : 1\n",
      "unsicher:  49\n",
      "98.0\n"
     ]
    }
   ],
   "source": [
    "unsicher = []\n",
    "valid_data = valid_data[:50, :-1]\n",
    "for V in valid_data:\n",
    "    V = V.reshape(1,-1)\n",
    "    yhat = gbr.predict(V)\n",
    "    if yhat[0] == 1:\n",
    "        unsicher.append(V)\n",
    "    print('Predicted Class1 : %d' % yhat[0])\n",
    "print ('unsicher: ' , len(unsicher))\n",
    "print (len(unsicher)*100/50)"
   ]
  },
  {
   "cell_type": "code",
   "execution_count": 9,
   "id": "8e792124",
   "metadata": {},
   "outputs": [],
   "source": [
    "row1 = [[240.0,2199.0,312.4696,290.0,264.0,6696.358911731173,81.82719154315392,81.83128320960861,64.0]]\n",
    "row2 = [[241.0,2440.0,311.2977,288.0,262.0,7715.387413451344,87.83288606615406,87.83727803985813,62.0]]\n",
    "row3 = [[241.0,2605.0,310.7722,287.0,264.0,6416.194726632663,80.09714793399326,80.1011530917793,62.0]]\n",
    "row4 = [[239.0,1905.0,311.9573,289.0,265.0,6518.803357045704,80.7350696829451,80.73910673921098,62.0]]\n",
    "row5 = [[235.0,2216.0,311.456,289.0,265.0,6712.029466946694,81.92287997867263,81.92697642990795,63.0]]\n",
    "row6 = [[239.0,2263.0,312.7878,289.0,267.0,7556.587029862986,86.92428527839616,86.92863181865332,62.0]]\n",
    "row7 = [[238.0,2208.0,313.9244,290.0,265.0,8294.525937233724,91.06973418562283,91.07428801387208,63.0]]\n",
    "row8 = [[239.0,2935.0,315.7533,291.0,267.0,11372.507089818982,106.63662522374759,106.64195745492945,64.0]]\n",
    "row9 = [[239.0,2253.0,310.1877,288.0,271.0,6467.485817291729,80.41665914914645,80.42068028369151,60.0]]\n",
    "row10 = [[241.0,3318.0,315.9451,291.0,267.0,10026.26511250125,100.12623275640605,100.13123944354854,65.0]]\n",
    "row11 = [[237.0,2501.0,308.3515,285.0,262.0,6365.959943744375,79.78297655358567,79.78696600162445,63.0]]\n",
    "row12 = [[237.0,2702.0,310.1264,287.0,263.0,8041.272950335033,89.66866132066431,89.67314509001585,65.0]]\n",
    "row13 = [[236.0,3680.0,308.5955,285.0,261.0,9049.717051455145,95.12524417708477,95.13000079604302,62.0]]\n",
    "row14 = [[234.0,1731.0,308.1144,286.0,264.0,5942.309943634364,77.08252533901572,77.08637975436623,62.0]]\n",
    "row15 = [[237.0,3285.0,310.2178,289.0,265.0,8022.948057965797,89.56643212253127,89.5709107800395,63.0]]\n",
    "row16 = [[238.0,3487.0,308.0708,285.0,263.0,8574.266013961396,92.59270266797486,92.59733265035985,64.0]]\n",
    "row17 = [[236.0,3411.0,307.0119,285.0,267.0,7501.39509789979,86.60626396739441,86.61059460539335,61.0]]\n",
    "row18 = [[236.0,2319.0,309.4348,286.0,261.0,8373.029651925193,91.49968496645221,91.50426029385295,61.0]]\n",
    "row19 = [[235.0,2336.0,309.0989,288.0,264.0,7191.49506829683,84.79844290309816,84.80268314326399,63.0]]\n",
    "row20 = [[233.0,2196.0,309.3771,288.0,265.0,6672.448740464047,81.68097388982333,81.685058244847,63.0]]"
   ]
  },
  {
   "cell_type": "code",
   "execution_count": 10,
   "id": "74bbe9a2",
   "metadata": {},
   "outputs": [
    {
     "name": "stdout",
     "output_type": "stream",
     "text": [
      "sichere Validierungsdaten 0\n",
      "Predicted Class1 : 0\n",
      "Predicted Class2 : 0\n",
      "Predicted Class3 : 0\n",
      "Predicted Class4 : 0\n",
      "Predicted Class5 : 1\n",
      "Predicted Class6 : 0\n",
      "Predicted Class17: 1\n",
      "Predicted Class18: 1\n",
      "Predicted Class19: 1\n",
      "Predicted Class20: 1\n",
      "------------------------------\n",
      "unsichere Validierungsdaten 1\n",
      "Predicted Class7 : 0\n",
      "Predicted Class8 : 0\n",
      "Predicted Class9 : 0\n",
      "Predicted Class10: 0\n",
      "Predicted Class11: 1\n",
      "Predicted Class12: 1\n",
      "Predicted Class13: 1\n",
      "Predicted Class14: 1\n",
      "Predicted Class15: 1\n",
      "Predicted Class16: 1\n"
     ]
    }
   ],
   "source": [
    "print('sichere Validierungsdaten 0')\n",
    "yhat = gbr.predict(row1)\n",
    "print('Predicted Class1 : %d' % yhat[0])\n",
    "yhat = gbr.predict(row2)\n",
    "print('Predicted Class2 : %d' % yhat[0])\n",
    "yhat = gbr.predict(row3)\n",
    "print('Predicted Class3 : %d' % yhat[0])\n",
    "yhat = gbr.predict(row4)\n",
    "print('Predicted Class4 : %d' % yhat[0])\n",
    "yhat = gbr.predict(row5)\n",
    "print('Predicted Class5 : %d' % yhat[0])\n",
    "yhat = gbr.predict(row6)\n",
    "print('Predicted Class6 : %d' % yhat[0])\n",
    "yhat = gbr.predict(row17)\n",
    "print('Predicted Class17: %d' % yhat[0])\n",
    "yhat = gbr.predict(row18)\n",
    "print('Predicted Class18: %d' % yhat[0])\n",
    "yhat = gbr.predict(row19)\n",
    "print('Predicted Class19: %d' % yhat[0])\n",
    "yhat = gbr.predict(row20)\n",
    "print('Predicted Class20: %d' % yhat[0])\n",
    "print('------------------------------')\n",
    "print('unsichere Validierungsdaten 1')\n",
    "yhat = gbr.predict(row7)\n",
    "print('Predicted Class7 : %d' % yhat[0])\n",
    "yhat = gbr.predict(row8)\n",
    "print('Predicted Class8 : %d' % yhat[0])\n",
    "yhat = gbr.predict(row9)\n",
    "print('Predicted Class9 : %d' % yhat[0])\n",
    "yhat = gbr.predict(row10)\n",
    "print('Predicted Class10: %d' % yhat[0])\n",
    "yhat = gbr.predict(row11)\n",
    "print('Predicted Class11: %d' % yhat[0])\n",
    "yhat = gbr.predict(row12)\n",
    "print('Predicted Class12: %d' % yhat[0])\n",
    "yhat = gbr.predict(row13)\n",
    "print('Predicted Class13: %d' % yhat[0])\n",
    "yhat = gbr.predict(row14)\n",
    "print('Predicted Class14: %d' % yhat[0])\n",
    "yhat = gbr.predict(row15)\n",
    "print('Predicted Class15: %d' % yhat[0])\n",
    "yhat = gbr.predict(row16)\n",
    "print('Predicted Class16: %d' % yhat[0])"
   ]
  },
  {
   "cell_type": "code",
   "execution_count": 11,
   "id": "fc2f4acf",
   "metadata": {},
   "outputs": [
    {
     "name": "stdout",
     "output_type": "stream",
     "text": [
      "              precision    recall  f1-score   support\n",
      "\n",
      "         0.0       0.92      0.80      0.86        15\n",
      "         1.0       0.84      0.94      0.89        17\n",
      "\n",
      "    accuracy                           0.88        32\n",
      "   macro avg       0.88      0.87      0.87        32\n",
      "weighted avg       0.88      0.88      0.87        32\n",
      "\n"
     ]
    }
   ],
   "source": [
    "print(classification_report(y_test,gbr.predict(X_test)))"
   ]
  },
  {
   "cell_type": "code",
   "execution_count": 27,
   "id": "3acb0948",
   "metadata": {},
   "outputs": [],
   "source": [
    "row1 = [[1012763.0,2443351.0,1036881.5261,1035567.0,1034692.0,575022119.3572545,23978.419821692147,23979.618832609798,11578.5]]\n",
    "row2 = [[1012219.0,1841851.0,1038535.5908,1037449.0,1040117.0,333449493.84173954,18259.686440143363,18260.5994929449,11404.50]]\n",
    "row3 = [[1012776.0,3739954.0,1038613.7609,1037161.5,1038586.0,1133816858.1833494,33670.51345758676,33672.19710953459,11464.0]]\n",
    "row4 = [[1011300.0,2137028.0,1036479.4405,1034247.5,1034784.0,901240129.1707768,30019.160633799536,30020.66170441246,12168.0]]\n",
    "row5 = [[1011880.0,1524294.0,1035469.4753,1034596.0,1041235.0,203488089.64095402,14264.211889620468,14264.9251537102,11516.5]]\n",
    "row6 = [[1012566.0,2221916.0,1038975.2022,1037381.0,1038209.0,800800433.6070758,28297.00255439991,28298.417510650233,11847.5]]\n",
    "row7 = [[1012405.0,2143342.0,1035749.8605,1034743.5,1036101.0,411053246.4578855,20273.434369470797,20274.448117220985,11737.0]]\n",
    "row8 = [[1011457.0,1761209.0,1036475.5042,1035347.0,1030602.0,417376829.67795014,20428.780971829485,20429.802487492387,11266.5]]\n",
    "row9 = [[1012943.0,2443351.0,1036563.0474,1035215.0,1038385.0,712109928.6850218,26684.053621819778,26685.38792457441,11829.5]]\n",
    "row10 = [[1011625.0,2137028.0,1036063.2886,1034868.0,1043363.0,521413531.19442946,22833.339436913517,22834.48118951752,11714.5]]\n",
    "row11 = [[1009675.0,2066147.0,1034668.6056,1032870.5,1029116.0,371366085.7616248,19269.89748683289,19270.86105397537,11698.5]]\n",
    "row12 = [[1004163.0,2065298.0,1034630.2706,1032977.5,1034914.0,327942962.4510207,18108.290039503332,18109.195521917056,11762.5]]\n",
    "row13 = [[1006885.0,7943723.0,1035771.2154,1032970.0,1027226.0,9941142790.865688,99700.29426529595,99705.27965391647,11708.5]]\n",
    "row14 = [[1007245.0,2059017.0,1034235.0347,1032949.0,1033010.0,218979846.4939453,14797.227730534389,14797.967647415144,11714.0]]\n",
    "row15 = [[1007369.0,1731085.0,1034541.4464,1033152.5,1033487.0,244177621.49527657,15625.402514275496,15626.183843001354,11778.5]]\n",
    "row16 = [[1002314.0,2376313.0,1035275.8594,1033324.0,1038524.0,520914761.5877904,22822.415956940924,22823.557163329962,11922.0]]\n",
    "row17 = [[976680.0,2017481.0,1035452.0401,1034053.5,1048096.0,242063630.2949215,15557.616267664273,15558.39420682358,12889.0]]\n",
    "row18 = [[985273.0,2241573.0,1035786.8134,1033920.0,1030578.0,572878461.754756,23933.682832121354,23934.879606021754,11919.0]]\n",
    "row19 = [[984984.0,2098724.0,1035426.1578,1033670.5,1032414.0,457011558.93839294,21376.759758730954,21377.82867688842,12329.0]]\n",
    "row20 = [[975717.0,2375960.0,1035838.1,1033771.5,1035118.0,715367296.9872987,26745.013745698467,26746.35109668791,12693.00]]"
   ]
  },
  {
   "cell_type": "code",
   "execution_count": 28,
   "id": "a8112214",
   "metadata": {},
   "outputs": [
    {
     "name": "stdout",
     "output_type": "stream",
     "text": [
      "sichere Validierungsdaten 0\n",
      "Predicted Class1 : 1\n",
      "Predicted Class2 : 1\n",
      "Predicted Class3 : 1\n",
      "Predicted Class4 : 1\n",
      "Predicted Class5 : 1\n",
      "Predicted Class6 : 1\n",
      "Predicted Class7 : 1\n",
      "Predicted Class8 : 1\n",
      "Predicted Class9 : 1\n",
      "------------------------------\n",
      "unsichere Validierungsdaten 1\n",
      "Predicted Class10: 1\n",
      "Predicted Class11: 1\n",
      "Predicted Class12: 1\n",
      "Predicted Class13: 1\n",
      "Predicted Class14: 1\n",
      "Predicted Class15: 1\n",
      "Predicted Class16: 1\n",
      "Predicted Class17: 1\n",
      "Predicted Class18: 1\n",
      "Predicted Class19: 1\n",
      "Predicted Class20: 1\n"
     ]
    }
   ],
   "source": [
    "print('sichere Validierungsdaten 0')\n",
    "yhat = gbr.predict(row1)\n",
    "print('Predicted Class1 : %d' % yhat[0])\n",
    "yhat = gbr.predict(row2)\n",
    "print('Predicted Class2 : %d' % yhat[0])\n",
    "yhat = gbr.predict(row3)\n",
    "print('Predicted Class3 : %d' % yhat[0])\n",
    "yhat = gbr.predict(row4)\n",
    "print('Predicted Class4 : %d' % yhat[0])\n",
    "yhat = gbr.predict(row5)\n",
    "print('Predicted Class5 : %d' % yhat[0])\n",
    "yhat = gbr.predict(row6)\n",
    "print('Predicted Class6 : %d' % yhat[0])\n",
    "yhat = gbr.predict(row7)\n",
    "print('Predicted Class7 : %d' % yhat[0])\n",
    "yhat = gbr.predict(row8)\n",
    "print('Predicted Class8 : %d' % yhat[0])\n",
    "yhat = gbr.predict(row9)\n",
    "print('Predicted Class9 : %d' % yhat[0])\n",
    "yhat = gbr.predict(row10)\n",
    "print('------------------------------')\n",
    "print('unsichere Validierungsdaten 1')\n",
    "print('Predicted Class10: %d' % yhat[0])\n",
    "yhat = gbr.predict(row11)\n",
    "print('Predicted Class11: %d' % yhat[0])\n",
    "yhat = gbr.predict(row12)\n",
    "print('Predicted Class12: %d' % yhat[0])\n",
    "yhat = gbr.predict(row13)\n",
    "print('Predicted Class13: %d' % yhat[0])\n",
    "yhat = gbr.predict(row14)\n",
    "print('Predicted Class14: %d' % yhat[0])\n",
    "yhat = gbr.predict(row15)\n",
    "print('Predicted Class15: %d' % yhat[0])\n",
    "yhat = gbr.predict(row16)\n",
    "print('Predicted Class16: %d' % yhat[0])\n",
    "yhat = gbr.predict(row17)\n",
    "print('Predicted Class17: %d' % yhat[0])\n",
    "yhat = gbr.predict(row18)\n",
    "print('Predicted Class18: %d' % yhat[0])\n",
    "yhat = gbr.predict(row19)\n",
    "print('Predicted Class19: %d' % yhat[0])\n",
    "yhat = gbr.predict(row20)\n",
    "print('Predicted Class20: %d' % yhat[0])"
   ]
  },
  {
   "cell_type": "code",
   "execution_count": 71,
   "id": "50fb31a2",
   "metadata": {},
   "outputs": [],
   "source": [
    "row1 = [[994961.0,1130457.0,1019490.3415,1018426.5,1017271.0,111509781.70624837,10559.291203867699,10559.819208028533,12348.5]]\n",
    "row2 = [[984316.0,1130953.0,1019488.9251,1018286.0,1017951.0,108290025.12340233,10405.72900477857,10406.249330253544,12250.5]]\n",
    "row3 = [[996578.0,1130440.0,1019782.1905,1018621.5,1017614.0,110561662.4664564,10514.304841510433,10514.830596184438,12406.0]]\n",
    "row4 = [[995093.0,1540861.0,1019517.0416,1018056.5,1014536.0,256098159.43141258,16002.267014878531,16003.067188242778,12029.0]]\n",
    "row5 = [[984571.0,2021064.0,1019307.4562,1018070.0,1017314.0,229102657.7222538,15135.380651192145,15136.137476987113,12407.5]]\n",
    "row6 = [[993210.0,1599342.0,1020023.8718,1018235.0,1012440.0,298021931.5033151,17262.448531716604,17263.311718882767,12076.5]]\n",
    "row7 = [[987064.0,1484968.0,1019142.4318,1017449.0,1017029.0,263108444.14256302,16219.806820617463,16220.617871787837,11846.0]]\n",
    "row8 = [[986612.0,2019540.0,1019280.8924,1017702.5,1016762.0,363321193.4395662,19060.033088119817,19060.986161255303,11751.0]]\n",
    "row9 = [[993161.0,1596877.0,1019557.5079,1018058.0,1014667.0,256557098.19975758,16016.598967631598,16017.399857647233,11816.5]]\n",
    "row10 = [[990682.0,1477903.0,1019180.036,1017834.5,1020287.0,155117093.44664866,12453.978550539743,12454.601296173581,12178.5]]\n",
    "row11 = [[991650.0,1590134.0,1020041.5546,1018317.0,1015249.0,304628785.5837772,17452.745420283274,17453.618123007538,12226.5]]\n",
    "row12 = [[992571.0,1978622.0,1019841.4291,1018371.0,1013912.0,263464894.9528685,16230.790136754686,16231.60173713206,11791.5]]\n",
    "row13 = [[984895.0,2270874.0,1019994.3991,1017991.0,1016111.0,438059655.8138006,20928.828200551965,20929.87472045164,13071.0]]\n",
    "row14 = [[981093.0,2291806.0,1020118.9896,1017999.0,1022545.0,500792982.80217206,22377.2854364396,22378.404384633235,12887.5]]\n",
    "row15 = [[971541.0,2040306.0,1017828.9592,1016179.0,1009312.0,239232927.85772112,15466.383047271762,15467.156424427896,13394.0]]\n",
    "row16 = [[985920.0,1798072.0,1020001.2787,1017929.5,1019511.0,346841978.3430606,18622.762795708542,18623.69400368951,13049.5]]\n",
    "row17 = [[980765.0,2043084.0,1017893.2405,1015715.5,1015716.0,386657094.9511549,19662.615015344723,19663.598219836444,13637.5]]\n",
    "row18 = [[969540.0,2305492.0,1020059.2707,1018151.0,1023713.0,544080213.7677983,23324.36077894572,23325.527084458314,13200.0]]\n",
    "row19 = [[984837.0,1750533.0,1017720.1654,1015698.0,1010669.0,273228765.65340817,16528.806453487283,16529.632955798148,13439.5]]\n",
    "row20 = [[979753.0,1469404.0,1019931.0544,1018349.0,1017925.0,171271956.4484855,13086.436843267942,13087.091214188335,13399.0]]"
   ]
  },
  {
   "cell_type": "code",
   "execution_count": 72,
   "id": "aa03d828",
   "metadata": {},
   "outputs": [
    {
     "name": "stdout",
     "output_type": "stream",
     "text": [
      "sichere Validierungsdaten 0\n",
      "Predicted Class1 : 1\n",
      "Predicted Class2 : 1\n",
      "Predicted Class3 : 1\n",
      "Predicted Class4 : 1\n",
      "Predicted Class5 : 1\n",
      "Predicted Class6 : 1\n",
      "Predicted Class7 : 1\n",
      "Predicted Class8 : 1\n",
      "Predicted Class9 : 1\n",
      "------------------------------\n",
      "unsichere Validierungsdaten 1\n",
      "Predicted Class10: 1\n",
      "Predicted Class11: 1\n",
      "Predicted Class12: 1\n",
      "Predicted Class13: 1\n",
      "Predicted Class14: 1\n",
      "Predicted Class15: 1\n",
      "Predicted Class16: 1\n",
      "Predicted Class17: 1\n",
      "Predicted Class18: 1\n",
      "Predicted Class19: 1\n",
      "Predicted Class20: 1\n"
     ]
    }
   ],
   "source": [
    "print('sichere Validierungsdaten 0')\n",
    "yhat = gbr.predict(row1)\n",
    "print('Predicted Class1 : %d' % yhat[0])\n",
    "yhat = gbr.predict(row2)\n",
    "print('Predicted Class2 : %d' % yhat[0])\n",
    "yhat = gbr.predict(row3)\n",
    "print('Predicted Class3 : %d' % yhat[0])\n",
    "yhat = gbr.predict(row4)\n",
    "print('Predicted Class4 : %d' % yhat[0])\n",
    "yhat = gbr.predict(row5)\n",
    "print('Predicted Class5 : %d' % yhat[0])\n",
    "yhat = gbr.predict(row6)\n",
    "print('Predicted Class6 : %d' % yhat[0])\n",
    "yhat = gbr.predict(row7)\n",
    "print('Predicted Class7 : %d' % yhat[0])\n",
    "yhat = gbr.predict(row8)\n",
    "print('Predicted Class8 : %d' % yhat[0])\n",
    "yhat = gbr.predict(row9)\n",
    "print('Predicted Class9 : %d' % yhat[0])\n",
    "yhat = gbr.predict(row10)\n",
    "print('------------------------------')\n",
    "print('unsichere Validierungsdaten 1')\n",
    "print('Predicted Class10: %d' % yhat[0])\n",
    "yhat = gbr.predict(row11)\n",
    "print('Predicted Class11: %d' % yhat[0])\n",
    "yhat = gbr.predict(row12)\n",
    "print('Predicted Class12: %d' % yhat[0])\n",
    "yhat = gbr.predict(row13)\n",
    "print('Predicted Class13: %d' % yhat[0])\n",
    "yhat = gbr.predict(row14)\n",
    "print('Predicted Class14: %d' % yhat[0])\n",
    "yhat = gbr.predict(row15)\n",
    "print('Predicted Class15: %d' % yhat[0])\n",
    "yhat = gbr.predict(row16)\n",
    "print('Predicted Class16: %d' % yhat[0])\n",
    "yhat = gbr.predict(row17)\n",
    "print('Predicted Class17: %d' % yhat[0])\n",
    "yhat = gbr.predict(row18)\n",
    "print('Predicted Class18: %d' % yhat[0])\n",
    "yhat = gbr.predict(row19)\n",
    "print('Predicted Class19: %d' % yhat[0])\n",
    "yhat = gbr.predict(row20)\n",
    "print('Predicted Class20: %d' % yhat[0])"
   ]
  },
  {
   "cell_type": "code",
   "execution_count": null,
   "id": "1e92b410",
   "metadata": {},
   "outputs": [],
   "source": []
  }
 ],
 "metadata": {
  "kernelspec": {
   "display_name": "Python 3 (ipykernel)",
   "language": "python",
   "name": "python3"
  },
  "language_info": {
   "codemirror_mode": {
    "name": "ipython",
    "version": 3
   },
   "file_extension": ".py",
   "mimetype": "text/x-python",
   "name": "python",
   "nbconvert_exporter": "python",
   "pygments_lexer": "ipython3",
   "version": "3.8.16"
  }
 },
 "nbformat": 4,
 "nbformat_minor": 5
}
