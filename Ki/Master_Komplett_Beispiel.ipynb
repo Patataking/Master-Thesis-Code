{
 "cells": [
  {
   "cell_type": "code",
   "execution_count": 11,
   "id": "bf4e1f5b",
   "metadata": {},
   "outputs": [],
   "source": [
    "import numpy as np\n",
    "import pandas as pd\n",
    "from sklearn.model_selection import train_test_split\n",
    "from sklearn.ensemble import ExtraTreesClassifier\n",
    "from sklearn.ensemble import GradientBoostingClassifier\n",
    "from sklearn.ensemble import HistGradientBoostingClassifier\n",
    "from sklearn.ensemble import AdaBoostClassifier\n",
    "from sklearn.ensemble import BaggingClassifier\n",
    "from sklearn.neighbors import KNeighborsClassifier\n",
    "from sklearn.linear_model import SGDClassifier\n",
    "from sklearn import svm\n",
    "from sklearn.ensemble import StackingClassifier\n",
    "from sklearn.metrics import accuracy_score\n",
    "from sklearn.metrics import classification_report\n",
    "from sklearn import preprocessing"
   ]
  },
  {
   "cell_type": "code",
   "execution_count": 12,
   "id": "62fde9fe",
   "metadata": {},
   "outputs": [],
   "source": [
    "# load the inputfiles for training and validation\n",
    "data = np.loadtxt(\"C:\\\\Master_Thesis\\\\network_ai_input_1006.txt\")\n",
    "valid_secure_data = np.loadtxt(\"C:\\\\Master_Thesis\\\\network_valid_secure_input_1006.txt\")\n",
    "valid_insecure_data = np.loadtxt(\"C:\\\\Master_Thesis\\\\network_valid_insecure_input_1006.txt\")"
   ]
  },
  {
   "cell_type": "code",
   "execution_count": 3,
   "id": "8eb6bcc7",
   "metadata": {},
   "outputs": [],
   "source": [
    "# if needed: declare rows and columns for validation\n",
    "valid_secure_data = valid_secure_data[:, :-1]\n",
    "valid_insecure_data = valid_insecure_data[:, :-1]"
   ]
  },
  {
   "cell_type": "markdown",
   "id": "97b95d9c",
   "metadata": {},
   "source": [
    "# Preprocessiong Data: \n",
    "#Option 1 MinMaxScaler or Option 2 Normalizer"
   ]
  },
  {
   "cell_type": "code",
   "execution_count": 4,
   "id": "1a85c29c",
   "metadata": {},
   "outputs": [
    {
     "data": {
      "text/plain": [
       "array([[8.68650191e-01, 5.75879011e-03, 6.97915638e-01, 9.88778975e-01,\n",
       "        5.57929917e-01, 0.00000000e+00, 0.00000000e+00, 0.00000000e+00,\n",
       "        1.41202763e-01],\n",
       "       [8.79172996e-01, 1.42660298e-02, 6.47479195e-01, 8.73911118e-01,\n",
       "        1.33583148e-01, 9.68721300e-03, 2.51078312e-02, 2.51078312e-02,\n",
       "        2.45631857e-01],\n",
       "       [9.32528067e-01, 5.16690275e-03, 6.07304105e-01, 8.25483538e-01,\n",
       "        8.52136925e-01, 2.93509074e-03, 7.82819647e-03, 7.82819647e-03,\n",
       "        9.12230800e-02],\n",
       "       [7.81577680e-01, 1.13518798e-01, 8.07580959e-01, 7.50922782e-01,\n",
       "        1.91411789e-01, 1.25425878e-01, 2.40500469e-01, 2.40500469e-01,\n",
       "        3.16944332e-01],\n",
       "       [1.00000000e+00, 5.28275259e-03, 6.56733189e-01, 9.18204636e-01,\n",
       "        8.11423942e-01, 7.19994435e-04, 1.93949146e-03, 1.93949146e-03,\n",
       "        0.00000000e+00],\n",
       "       [1.22494350e-01, 1.62013189e-01, 7.61137239e-01, 9.30754466e-01,\n",
       "        6.49078388e-01, 8.21696992e-02, 1.71813913e-01, 1.71813913e-01,\n",
       "        2.42787485e-01],\n",
       "       [9.25895735e-01, 2.96959293e-01, 7.80157606e-01, 9.24701019e-01,\n",
       "        2.26858416e-01, 9.50021041e-02, 1.93202518e-01, 1.93202518e-01,\n",
       "        1.71068671e-01],\n",
       "       [0.00000000e+00, 3.85362549e-01, 1.00000000e+00, 1.00000000e+00,\n",
       "        0.00000000e+00, 2.70440735e-01, 4.24331963e-01, 4.24331963e-01,\n",
       "        3.17350670e-01],\n",
       "       [2.94934974e-02, 0.00000000e+00, 5.96766137e-01, 8.15148383e-01,\n",
       "        7.83876848e-01, 1.13026185e-02, 2.91047750e-02, 2.91047750e-02,\n",
       "        3.84802926e-01],\n",
       "       [9.13631479e-01, 2.97271034e-01, 8.89435766e-01, 8.92366750e-01,\n",
       "        5.64107758e-01, 1.63439785e-01, 2.94275090e-01, 2.94275090e-01,\n",
       "        2.59853718e-01],\n",
       "       [3.46289229e-01, 1.19550713e-01, 7.53821997e-01, 8.62985383e-01,\n",
       "        1.00000000e+00, 4.25257046e-02, 9.84346280e-02, 9.84346280e-02,\n",
       "        7.70012190e-01],\n",
       "       [7.09326022e-01, 4.08527601e-01, 1.85256827e-01, 1.57980216e-01,\n",
       "        1.12922828e-01, 2.13660040e-01, 3.58554160e-01, 3.58554160e-01,\n",
       "        1.00000000e+00],\n",
       "       [5.76901701e-02, 3.19971634e-01, 7.09243604e-01, 7.37634726e-01,\n",
       "        3.89305246e-01, 1.01797701e-01, 2.04157141e-01, 2.04157141e-01,\n",
       "        7.77123121e-01],\n",
       "       [7.91581756e-01, 2.34932939e-01, 8.26319350e-01, 7.16078547e-01,\n",
       "        6.59509824e-01, 2.00917211e-01, 3.42858938e-01, 3.42858938e-01,\n",
       "        7.21048354e-01],\n",
       "       [8.92771129e-01, 1.00000000e+00, 0.00000000e+00, 0.00000000e+00,\n",
       "        8.70467895e-01, 1.00000000e+00, 1.00000000e+00, 1.00000000e+00,\n",
       "        4.76838683e-01]])"
      ]
     },
     "execution_count": 4,
     "metadata": {},
     "output_type": "execute_result"
    }
   ],
   "source": [
    "# Option 1: MinMaxScaler\n",
    "scaler=preprocessing.MinMaxScaler()\n",
    "# train data\n",
    "scaler.fit(data)\n",
    "scaler.transform(data)\n",
    "# secure valid data\n",
    "scaler.fit(valid_secure_data)\n",
    "scaler.transform(valid_secure_data)\n",
    "# insecure valid data\n",
    "scaler.fit(valid_insecure_data)\n",
    "scaler.transform(valid_insecure_data)"
   ]
  },
  {
   "cell_type": "code",
   "execution_count": 5,
   "id": "cd3eeb5c",
   "metadata": {},
   "outputs": [
    {
     "data": {
      "text/plain": [
       "array([[1.03336460e-02, 1.18895728e-02, 1.06032376e-02, 1.05933788e-02,\n",
       "        1.05721208e-02, 9.99707658e-01, 1.01209001e-04, 1.01214061e-04,\n",
       "        1.19488431e-04],\n",
       "       [8.77305820e-03, 1.03019283e-02, 8.99800240e-03, 8.98765072e-03,\n",
       "        8.93654981e-03, 9.99787613e-01, 9.32446819e-05, 9.32493444e-05,\n",
       "        1.03649923e-04],\n",
       "       [9.82102705e-03, 1.12640924e-02, 1.00572366e-02, 1.00453162e-02,\n",
       "        1.00587671e-02, 9.99736666e-01, 9.85839429e-05, 9.85888724e-05,\n",
       "        1.12171336e-04],\n",
       "       [3.11672846e-03, 4.54530620e-03, 3.20659352e-03, 3.20003408e-03,\n",
       "        3.18489154e-03, 9.99969476e-01, 5.56551443e-05, 5.56579273e-05,\n",
       "        3.74628978e-05],\n",
       "       [1.02344128e-02, 1.17204345e-02, 1.04633000e-02, 1.04524814e-02,\n",
       "        1.04592320e-02, 9.99714822e-01, 1.00545665e-04, 1.00550693e-04,\n",
       "        1.14412056e-04],\n",
       "       [4.03174961e-03, 6.54909544e-03, 4.22205210e-03, 4.21650295e-03,\n",
       "        4.21251318e-03, 9.99943745e-01, 6.38661364e-05, 6.38693300e-05,\n",
       "        4.85891325e-05],\n",
       "       [3.76614115e-03, 7.41970150e-03, 3.85946159e-03, 3.85408663e-03,\n",
       "        3.83497015e-03, 9.99943148e-01, 6.10603590e-05, 6.10634122e-05,\n",
       "        4.37555264e-05],\n",
       "       [1.68891515e-03, 3.84354121e-03, 1.77587619e-03, 1.77263954e-03,\n",
       "        1.75957124e-03, 9.99986489e-01, 4.14061335e-05, 4.14082039e-05,\n",
       "        2.07371285e-05],\n",
       "       [8.36270909e-03, 9.70377279e-03, 8.77528764e-03, 8.76487465e-03,\n",
       "        8.77119050e-03, 9.99802536e-01, 9.20913617e-05, 9.20959666e-05,\n",
       "        1.04005776e-04],\n",
       "       [2.58179020e-03, 5.09034151e-03, 2.64752254e-03, 2.64266534e-03,\n",
       "        2.63835145e-03, 9.99973231e-01, 5.05649103e-05, 5.05674387e-05,\n",
       "        3.05641478e-05],\n",
       "       [5.71646270e-03, 8.53392746e-03, 5.94978779e-03, 5.94078239e-03,\n",
       "        5.95639971e-03, 9.99894147e-01, 7.58147510e-05, 7.58185420e-05,\n",
       "        7.59335827e-05],\n",
       "       [2.08652456e-03, 4.79498483e-03, 2.14672975e-03, 2.14228211e-03,\n",
       "        2.13468721e-03, 9.99979447e-01, 4.55817540e-05, 4.55840333e-05,\n",
       "        2.86216392e-05],\n",
       "       [3.51865282e-03, 7.33057040e-03, 3.69067881e-03, 3.68408505e-03,\n",
       "        3.67378098e-03, 9.99946590e-01, 5.97169097e-05, 5.97198958e-05,\n",
       "        4.71708149e-05],\n",
       "       [2.19554123e-03, 3.95556441e-03, 2.25836993e-03, 2.25336261e-03,\n",
       "        2.25303972e-03, 9.99982137e-01, 4.67058317e-05, 4.67081672e-05,\n",
       "        2.85528921e-05],\n",
       "       [5.32975016e-04, 2.10869238e-03, 5.45351059e-04, 5.44250068e-04,\n",
       "        5.46552931e-04, 9.99997188e-01, 2.29809784e-05, 2.29821276e-05,\n",
       "        6.59511549e-06]])"
      ]
     },
     "execution_count": 5,
     "metadata": {},
     "output_type": "execute_result"
    }
   ],
   "source": [
    "# Option 2: Normalizer\n",
    "normalizer = preprocessing.Normalizer()\n",
    "normalizer.fit(data)\n",
    "normalizer.transform(data)\n",
    "normalizer.fit(valid_secure_data)\n",
    "normalizer.transform(valid_secure_data)\n",
    "normalizer.fit(valid_insecure_data)\n",
    "normalizer.transform(valid_insecure_data)"
   ]
  },
  {
   "cell_type": "code",
   "execution_count": 5,
   "id": "a92ecde8",
   "metadata": {},
   "outputs": [],
   "source": [
    "# declare Classifier\n",
    "clf = ExtraTreesClassifier()\n",
    "#clf = GradientBoostingClassifier(learning_rate=0.1)\n",
    "#clf = HistGradientBoostingClassifier()\n",
    "#clf = AdaBoostClassifier(base_estimator=ExtraTreesClassifier(),n_estimators=100)\n",
    "#clf = BaggingClassifier()\n",
    "#estimators = [('kn',KNeighborsClassifier()),('sg', GradientBoostingClassifier()), ('svm',svm.SVC())]\n",
    "#clf = StackingClassifier(estimators=estimators, final_estimator=(SGDClassifier()))"
   ]
  },
  {
   "cell_type": "code",
   "execution_count": 6,
   "id": "85bb3203",
   "metadata": {},
   "outputs": [
    {
     "name": "stdout",
     "output_type": "stream",
     "text": [
      "0.7916666666666666\n"
     ]
    }
   ],
   "source": [
    "# Training and Testing\n",
    "X = data[:, :-1]  # Features\n",
    "y = data[:, -1]  # Target variable\n",
    "X_train, X_test, y_train, y_test = train_test_split(X, y, test_size=0.2)\n",
    "clf.fit(X_train, y_train)\n",
    "y_pred = clf.predict(X_test)\n",
    "accuracy = accuracy_score(y_test, y_pred)\n",
    "print (accuracy)"
   ]
  },
  {
   "cell_type": "code",
   "execution_count": 7,
   "id": "00328bdc",
   "metadata": {},
   "outputs": [
    {
     "name": "stdout",
     "output_type": "stream",
     "text": [
      "sicher:  14\n"
     ]
    }
   ],
   "source": [
    "# Validation secure\n",
    "sicher = []\n",
    "#valid_data = valid_data[ :-1]\n",
    "for X in valid_secure_data:\n",
    "    X = X.reshape(1,-1)\n",
    "    yhat = clf.predict(X)\n",
    "    if yhat == 0:\n",
    "        sicher.append(X)\n",
    "    #print('Predicted Class : %d' % yhat[0])\n",
    "print ('sicher: ' , len(sicher))"
   ]
  },
  {
   "cell_type": "code",
   "execution_count": 8,
   "id": "74bc83f4",
   "metadata": {},
   "outputs": [
    {
     "name": "stdout",
     "output_type": "stream",
     "text": [
      "unsicher:  14\n"
     ]
    }
   ],
   "source": [
    "# Validation insecure\n",
    "unsicher = []\n",
    "for V in valid_insecure_data:\n",
    "    V = V.reshape(1,-1)\n",
    "    yhat = clf.predict(V)\n",
    "    if yhat[0] == 1:\n",
    "        unsicher.append(V)\n",
    "    #print('Predicted Class1 : %d' % yhat[0])\n",
    "print ('unsicher: ' , len(unsicher))"
   ]
  },
  {
   "cell_type": "code",
   "execution_count": null,
   "id": "abbbe94e",
   "metadata": {},
   "outputs": [],
   "source": []
  }
 ],
 "metadata": {
  "kernelspec": {
   "display_name": "Python 3 (ipykernel)",
   "language": "python",
   "name": "python3"
  },
  "language_info": {
   "codemirror_mode": {
    "name": "ipython",
    "version": 3
   },
   "file_extension": ".py",
   "mimetype": "text/x-python",
   "name": "python",
   "nbconvert_exporter": "python",
   "pygments_lexer": "ipython3",
   "version": "3.8.16"
  }
 },
 "nbformat": 4,
 "nbformat_minor": 5
}
