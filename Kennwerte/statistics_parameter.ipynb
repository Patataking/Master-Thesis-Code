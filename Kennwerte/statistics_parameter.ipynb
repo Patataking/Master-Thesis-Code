{
 "cells": [
  {
   "cell_type": "code",
   "execution_count": 1,
   "id": "44727b2e",
   "metadata": {},
   "outputs": [],
   "source": [
    "import numpy as np\n",
    "import statistics\n",
    "from scipy.stats import iqr"
   ]
  },
  {
   "cell_type": "code",
   "execution_count": 2,
   "id": "15ed09fb",
   "metadata": {},
   "outputs": [],
   "source": [
    "#Rohdaten einlesen - 10.000er Zeitdifferenzen\n",
    "data = np.loadtxt(\"C:\\\\Master_Projekt\\\\unsicher2\\\\92.txt\")"
   ]
  },
  {
   "cell_type": "code",
   "execution_count": 3,
   "id": "7bc83227",
   "metadata": {},
   "outputs": [],
   "source": [
    "#Berechnung der statistischen Kennwerte\n",
    "minimum_val = min (data)\n",
    "maximum_val = max(data)\n",
    "mean_val = statistics.mean (data)\n",
    "median_val= statistics.median(data)\n",
    "mode_val= statistics.mode(data)\n",
    "variance_val= statistics.variance (data)\n",
    "pstdev_val= statistics.pstdev(data)\n",
    "stdev_val = statistics.stdev(data)\n",
    "iqr_val = iqr(data, interpolation='midpoint')"
   ]
  },
  {
   "cell_type": "code",
   "execution_count": 4,
   "id": "df5c7011",
   "metadata": {},
   "outputs": [],
   "source": [
    "#File zum Schreiben oeffnen (Hinzufuegen Input am Ende)\n",
    "outputfile = open(r\"C:\\Master_Thesis\\statistics_unsecure.txt\", \"a\")"
   ]
  },
  {
   "cell_type": "code",
   "execution_count": 5,
   "id": "a5b52a80",
   "metadata": {},
   "outputs": [],
   "source": [
    "#Zusammensetzen des strings\n",
    "#Am Ende sichere (0) oder unsichere (1) Version manuell hinzufuegen\n",
    "stat_data= str(minimum_val) + ' ' + str(maximum_val)+' '+str(mean_val)+ ' ' + str(median_val)+' '+str(mode_val)+ ' ' + str(variance_val)+' '+str(pstdev_val)+ ' ' + str(stdev_val)+' '+str(iqr_val)+' '+str('1')"
   ]
  },
  {
   "cell_type": "code",
   "execution_count": 6,
   "id": "4ebe1ef5",
   "metadata": {},
   "outputs": [
    {
     "name": "stdout",
     "output_type": "stream",
     "text": [
      "1577.0 49210.0 2462.0644 2190.5 2068.0 839818.9861512551 916.370560555412 916.4163825201157 579.0 1\n"
     ]
    }
   ],
   "source": [
    "print (stat_data)"
   ]
  },
  {
   "cell_type": "code",
   "execution_count": 7,
   "id": "46271819",
   "metadata": {},
   "outputs": [],
   "source": [
    "#Schreiben des strings\n",
    "outputfile.write (stat_data)\n",
    "#New Line\n",
    "outputfile.write ('\\n')\n",
    "#File schliessen\n",
    "outputfile.close()"
   ]
  },
  {
   "cell_type": "code",
   "execution_count": null,
   "id": "8ea8b31a",
   "metadata": {},
   "outputs": [],
   "source": []
  }
 ],
 "metadata": {
  "kernelspec": {
   "display_name": "Python 3 (ipykernel)",
   "language": "python",
   "name": "python3"
  },
  "language_info": {
   "codemirror_mode": {
    "name": "ipython",
    "version": 3
   },
   "file_extension": ".py",
   "mimetype": "text/x-python",
   "name": "python",
   "nbconvert_exporter": "python",
   "pygments_lexer": "ipython3",
   "version": "3.8.16"
  }
 },
 "nbformat": 4,
 "nbformat_minor": 5
}
