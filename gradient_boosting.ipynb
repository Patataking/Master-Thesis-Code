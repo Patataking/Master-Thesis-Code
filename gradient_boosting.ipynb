{
 "cells": [
  {
   "cell_type": "code",
   "execution_count": 1,
   "id": "8bcc04ac",
   "metadata": {},
   "outputs": [],
   "source": [
    "import pandas as pd\n",
    "import numpy as np\n",
    "from sklearn.metrics import classification_report\n",
    "from sklearn.metrics import accuracy_score\n",
    "from sklearn.ensemble import GradientBoostingClassifier\n",
    "from sklearn.model_selection import train_test_split"
   ]
  },
  {
   "cell_type": "code",
   "execution_count": 2,
   "id": "656b670b",
   "metadata": {},
   "outputs": [],
   "source": [
    "data = np.loadtxt(\"C:\\\\Master_Projekt\\\\ai_input2.txt\")"
   ]
  },
  {
   "cell_type": "code",
   "execution_count": 13,
   "id": "2771f492",
   "metadata": {},
   "outputs": [],
   "source": [
    "X = data[:, :-1]  # Features (alles bis auf die lette Spalte)\n",
    "y = data[:, -1]  # Target variable (letzte Spalte)"
   ]
  },
  {
   "cell_type": "code",
   "execution_count": 14,
   "id": "015ba26d",
   "metadata": {},
   "outputs": [],
   "source": [
    "X_train, X_test, y_train, y_test = train_test_split(X, y, test_size=0.2)"
   ]
  },
  {
   "cell_type": "code",
   "execution_count": 15,
   "id": "185489c1",
   "metadata": {},
   "outputs": [],
   "source": [
    "#criterion{‘friedman_mse’, ‘squared_error’}, default=’friedman_mse’"
   ]
  },
  {
   "cell_type": "code",
   "execution_count": 16,
   "id": "bbbc2447",
   "metadata": {},
   "outputs": [
    {
     "data": {
      "text/plain": [
       "{'ccp_alpha': 0.0,\n",
       " 'criterion': 'squared_error',\n",
       " 'init': None,\n",
       " 'learning_rate': 0.1,\n",
       " 'loss': 'deviance',\n",
       " 'max_depth': 3,\n",
       " 'max_features': None,\n",
       " 'max_leaf_nodes': None,\n",
       " 'min_impurity_decrease': 0.0,\n",
       " 'min_samples_leaf': 1,\n",
       " 'min_samples_split': 2,\n",
       " 'min_weight_fraction_leaf': 0.0,\n",
       " 'n_estimators': 100,\n",
       " 'n_iter_no_change': None,\n",
       " 'random_state': None,\n",
       " 'subsample': 1.0,\n",
       " 'tol': 0.0001,\n",
       " 'validation_fraction': 0.1,\n",
       " 'verbose': 0,\n",
       " 'warm_start': False}"
      ]
     },
     "execution_count": 16,
     "metadata": {},
     "output_type": "execute_result"
    }
   ],
   "source": [
    "gradient_booster = GradientBoostingClassifier(learning_rate=0.1)\n",
    "gradient_booster.get_params()"
   ]
  },
  {
   "cell_type": "code",
   "execution_count": 17,
   "id": "948c9185",
   "metadata": {},
   "outputs": [
    {
     "data": {
      "text/plain": [
       "GradientBoostingClassifier(criterion='squared_error')"
      ]
     },
     "execution_count": 17,
     "metadata": {},
     "output_type": "execute_result"
    }
   ],
   "source": [
    "gradient_booster.fit(X_train,y_train)"
   ]
  },
  {
   "cell_type": "code",
   "execution_count": 7,
   "id": "5518dcc2",
   "metadata": {},
   "outputs": [],
   "source": [
    "outputreport = open(r\"C:\\Master_Projekt\\gradient_boosting\\classification_report.txt\", \"a\")"
   ]
  },
  {
   "cell_type": "code",
   "execution_count": 8,
   "id": "f9392b91",
   "metadata": {},
   "outputs": [
    {
     "name": "stdout",
     "output_type": "stream",
     "text": [
      "              precision    recall  f1-score   support\n",
      "\n",
      "         0.0       1.00      0.74      0.85        19\n",
      "         1.0       0.72      1.00      0.84        13\n",
      "\n",
      "    accuracy                           0.84        32\n",
      "   macro avg       0.86      0.87      0.84        32\n",
      "weighted avg       0.89      0.84      0.84        32\n",
      "\n"
     ]
    }
   ],
   "source": [
    "cr = (classification_report(y_test,gradient_booster.predict(X_test)))\n",
    "print(classification_report(y_test,gradient_booster.predict(X_test)))"
   ]
  },
  {
   "cell_type": "code",
   "execution_count": 9,
   "id": "26230da6",
   "metadata": {},
   "outputs": [],
   "source": [
    "outputreport.write (cr)\n",
    "outputreport.write ('\\n')\n",
    "outputreport.close()"
   ]
  },
  {
   "cell_type": "code",
   "execution_count": 18,
   "id": "42e6a017",
   "metadata": {},
   "outputs": [],
   "source": [
    "row1 = [[1642.0,13645.0,2845.4867,2220.0,2084.0,2017684.7791010202,1420.3812905776779,1420.4523149690806,691.5]]\n",
    "row2 = [[1651.0,6485.0,2133.5005,2099.0,2075.0,47119.57435718572,217.05958260291112,217.07043639608256,276.0]]\n",
    "row3 = [[1661.0,7186.0,2130.8205,2098.0,2039.0,45066.76935668567,212.27873817165485,212.28935290467507,273.0]]\n",
    "row4 = [[1528.0,14528.0,2095.4517,2011.5,1896.0,253486.37050416044,503.44912540107765,503.4742997454393,332.0]]\n",
    "row5 = [[1496.0,25048.0,2107.5791,1979.0,1842.0,289298.068350025,537.8374648006496,537.8643586909482,373.5]]\n",
    "row6 = [[1549.0,5875.0,2098.9139,2018.0,1918.0,103383.1722040104,321.5164597447384,321.53253677351285,341.0]]\n",
    "row17 = [[1540.0,28141.0,2114.9409,1996.0,1837.0,316266.49585677567,562.3476408834574,562.375760374481,350.0]]\n",
    "row18 = [[1540.0,8239.0,2104.7403,2025.0,1906.0,113218.20487639763,336.46230554983424,336.4791299269505,333.5]]\n",
    "row19 = [[1536.0,10228.0,2144.3379,2092.0,2068.0,79810.14633822381,282.4927703917217,282.50689608967747,292.0]]\n",
    "row20 = [[1555.0,14932.0,2091.1211,2039.0,1887.0,88514.73490828082,297.4993839233789,297.5142600082907,303.0]]\n",
    "row7 = [[1513.0,26264.0,2873.137,2167.0,1869.0,2822719.3587668766,1680.011037711062,1680.0950445635142,879.0]]\n",
    "row8 = [[1592.0,20137.0,2984.9971,2216.5,2145.0,2973507.1472063106,1724.2997989014525,1724.386020358061,1432.5]]\n",
    "row9 = [[1542.0,23370.0,2947.6204,2206.0,1861.0,2954943.788882728,1718.9090419518539,1718.9949938503976,1114.0]]\n",
    "row10 = [[1580.0,23842.0,2943.4652,2196.0,1908.0,2970602.8674757075,1723.4575153420406,1723.543694681312,1148.0]]\n",
    "row11 = [[1586.0,18116.0,2999.9235,2209.0,2220.0,2874318.6987176216,1695.296807891689,1695.3815790899764,1998.5]]\n",
    "row12 = [[1565.0,26771.0,2989.5021,2212.0,1866.0,3009367.5815537455,1734.6661479361353,1734.7528877490724,1815.5]]\n",
    "row13 = [[1577.0,15075.0,2425.0778,2188.0,2128.0,586021.317878948,765.482015299615,765.5202922711768,521.0]]\n",
    "row14 = [[1477.0,13061.0,2423.8555,2229.0,2113.0,475466.05642539257,689.5059896909888,689.5404675763364,572.0]]\n",
    "row15 = [[1595.0,10839.0,2889.7134,2423.0,2123.0,1070308.1542758676,1034.5052554049398,1034.5569845474283,1767.5]]\n",
    "row16 = [[1526.0,15661.0,2417.1411,2183.0,2119.0,562937.4443352235,750.2540573637639,750.2915728803193,501.5]]"
   ]
  },
  {
   "cell_type": "code",
   "execution_count": 19,
   "id": "ad1b3f35",
   "metadata": {},
   "outputs": [
    {
     "name": "stdout",
     "output_type": "stream",
     "text": [
      "sichere Validierungsdaten 0\n",
      "Predicted Class1 : 1\n",
      "Predicted Class2 : 0\n",
      "Predicted Class3 : 0\n",
      "Predicted Class4 : 1\n",
      "Predicted Class5 : 1\n",
      "Predicted Class6 : 0\n",
      "Predicted Class17: 1\n",
      "Predicted Class18: 0\n",
      "Predicted Class19: 0\n",
      "Predicted Class20: 1\n",
      "------------------------------\n",
      "unsichere Validierungsdaten 1\n",
      "Predicted Class7 : 1\n",
      "Predicted Class8 : 1\n",
      "Predicted Class9 : 1\n",
      "Predicted Class10: 1\n",
      "Predicted Class11: 1\n",
      "Predicted Class12: 1\n",
      "Predicted Class13: 1\n",
      "Predicted Class14: 1\n",
      "Predicted Class15: 0\n",
      "Predicted Class16: 1\n"
     ]
    }
   ],
   "source": [
    "print('sichere Validierungsdaten 0')\n",
    "yhat = gradient_booster.predict(row1)\n",
    "print('Predicted Class1 : %d' % yhat[0])\n",
    "yhat = gradient_booster.predict(row2)\n",
    "print('Predicted Class2 : %d' % yhat[0])\n",
    "yhat = gradient_booster.predict(row3)\n",
    "print('Predicted Class3 : %d' % yhat[0])\n",
    "yhat = gradient_booster.predict(row4)\n",
    "print('Predicted Class4 : %d' % yhat[0])\n",
    "yhat = gradient_booster.predict(row5)\n",
    "print('Predicted Class5 : %d' % yhat[0])\n",
    "yhat = gradient_booster.predict(row6)\n",
    "print('Predicted Class6 : %d' % yhat[0])\n",
    "yhat = gradient_booster.predict(row17)\n",
    "print('Predicted Class17: %d' % yhat[0])\n",
    "yhat = gradient_booster.predict(row18)\n",
    "print('Predicted Class18: %d' % yhat[0])\n",
    "yhat = gradient_booster.predict(row19)\n",
    "print('Predicted Class19: %d' % yhat[0])\n",
    "yhat = gradient_booster.predict(row20)\n",
    "print('Predicted Class20: %d' % yhat[0])\n",
    "print('------------------------------')\n",
    "print('unsichere Validierungsdaten 1')\n",
    "yhat = gradient_booster.predict(row7)\n",
    "print('Predicted Class7 : %d' % yhat[0])\n",
    "yhat = gradient_booster.predict(row8)\n",
    "print('Predicted Class8 : %d' % yhat[0])\n",
    "yhat = gradient_booster.predict(row9)\n",
    "print('Predicted Class9 : %d' % yhat[0])\n",
    "yhat = gradient_booster.predict(row10)\n",
    "print('Predicted Class10: %d' % yhat[0])\n",
    "yhat = gradient_booster.predict(row11)\n",
    "print('Predicted Class11: %d' % yhat[0])\n",
    "yhat = gradient_booster.predict(row12)\n",
    "print('Predicted Class12: %d' % yhat[0])\n",
    "yhat = gradient_booster.predict(row13)\n",
    "print('Predicted Class13: %d' % yhat[0])\n",
    "yhat = gradient_booster.predict(row14)\n",
    "print('Predicted Class14: %d' % yhat[0])\n",
    "yhat = gradient_booster.predict(row15)\n",
    "print('Predicted Class15: %d' % yhat[0])\n",
    "yhat = gradient_booster.predict(row16)\n",
    "print('Predicted Class16: %d' % yhat[0])"
   ]
  },
  {
   "cell_type": "code",
   "execution_count": 20,
   "id": "bba16210",
   "metadata": {},
   "outputs": [],
   "source": [
    "y_pred = gradient_booster.predict(X_test)"
   ]
  },
  {
   "cell_type": "code",
   "execution_count": 21,
   "id": "ecaea02a",
   "metadata": {},
   "outputs": [
    {
     "name": "stdout",
     "output_type": "stream",
     "text": [
      "Accuracy: 0.875\n"
     ]
    }
   ],
   "source": [
    "accuracy = accuracy_score(y_test, y_pred)\n",
    "print(\"Accuracy:\", accuracy)"
   ]
  },
  {
   "cell_type": "code",
   "execution_count": 14,
   "id": "d0e25f87",
   "metadata": {},
   "outputs": [
    {
     "name": "stdout",
     "output_type": "stream",
     "text": [
      "1 [[0.07063004 0.92936996]]\n",
      "4 [[4.65438297e-04 9.99534562e-01]]\n",
      "5 [[2.77201400e-04 9.99722799e-01]]\n",
      "17 [[2.77201400e-04 9.99722799e-01]]\n",
      "20 [[4.65438297e-04 9.99534562e-01]]\n",
      "15 [[0.99824556 0.00175444]]\n"
     ]
    }
   ],
   "source": [
    "print ('1',gradient_booster.predict_proba(row1))\n",
    "print ('4',gradient_booster.predict_proba(row4))\n",
    "print ('5',gradient_booster.predict_proba(row5))\n",
    "#print ('6',gradient_booster.predict_proba(row6))\n",
    "print ('17',gradient_booster.predict_proba(row17))\n",
    "#print ('18',gradient_booster.predict_proba(row18))\n",
    "#print ('19',gradient_booster.predict_proba(row19))\n",
    "print ('20',gradient_booster.predict_proba(row20))\n",
    "#print ('14',gradient_booster.predict_proba(row14))\n",
    "print ('15',gradient_booster.predict_proba(row15))"
   ]
  },
  {
   "cell_type": "code",
   "execution_count": 33,
   "id": "1afb9c3b",
   "metadata": {},
   "outputs": [
    {
     "data": {
      "text/plain": [
       "array([[0.00204042, 0.99795958]])"
      ]
     },
     "execution_count": 33,
     "metadata": {},
     "output_type": "execute_result"
    }
   ],
   "source": [
    "gradient_booster.predict_proba(row5)"
   ]
  },
  {
   "cell_type": "code",
   "execution_count": 11,
   "id": "a0295df7",
   "metadata": {},
   "outputs": [
    {
     "name": "stdout",
     "output_type": "stream",
     "text": [
      "Score:  1.0\n"
     ]
    }
   ],
   "source": [
    "score = gradient_booster.score(X_train, y_train)\n",
    "print(\"Score: \", score)"
   ]
  }
 ],
 "metadata": {
  "kernelspec": {
   "display_name": "Python 3 (ipykernel)",
   "language": "python",
   "name": "python3"
  },
  "language_info": {
   "codemirror_mode": {
    "name": "ipython",
    "version": 3
   },
   "file_extension": ".py",
   "mimetype": "text/x-python",
   "name": "python",
   "nbconvert_exporter": "python",
   "pygments_lexer": "ipython3",
   "version": "3.8.16"
  }
 },
 "nbformat": 4,
 "nbformat_minor": 5
}
