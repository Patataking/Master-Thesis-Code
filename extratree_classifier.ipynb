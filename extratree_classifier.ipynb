{
 "cells": [
  {
   "cell_type": "code",
   "execution_count": 1,
   "id": "28bf510f",
   "metadata": {},
   "outputs": [],
   "source": [
    "import numpy as np\n",
    "import pandas as pd\n",
    "from sklearn.model_selection import train_test_split\n",
    "from sklearn.ensemble import ExtraTreesClassifier\n",
    "from sklearn.metrics import accuracy_score\n",
    "from sklearn.metrics import classification_report"
   ]
  },
  {
   "cell_type": "code",
   "execution_count": 2,
   "id": "31861449",
   "metadata": {},
   "outputs": [],
   "source": [
    "data = np.loadtxt(\"C:\\\\Master_Projekt\\\\ai_input2.txt\")"
   ]
  },
  {
   "cell_type": "code",
   "execution_count": 3,
   "id": "4a49d67d",
   "metadata": {},
   "outputs": [],
   "source": [
    "X = data[:, :-1]  # Features\n",
    "y = data[:, -1]  # Target variable"
   ]
  },
  {
   "cell_type": "code",
   "execution_count": 4,
   "id": "0f00c709",
   "metadata": {},
   "outputs": [],
   "source": [
    "X_train, X_test, y_train, y_test = train_test_split(X, y, test_size=0.2)"
   ]
  },
  {
   "cell_type": "markdown",
   "id": "92a9ebb0",
   "metadata": {},
   "source": [
    "criterion{“squared_error”, “absolute_error”, “friedman_mse”, “poisson”}, default=”squared_error”"
   ]
  },
  {
   "cell_type": "code",
   "execution_count": 5,
   "id": "29f37192",
   "metadata": {},
   "outputs": [
    {
     "data": {
      "text/plain": [
       "ExtraTreesClassifier()"
      ]
     },
     "execution_count": 5,
     "metadata": {},
     "output_type": "execute_result"
    }
   ],
   "source": [
    "clf = ExtraTreesClassifier()\n",
    "clf.fit(X_train, y_train)"
   ]
  },
  {
   "cell_type": "code",
   "execution_count": 6,
   "id": "2c38c423",
   "metadata": {},
   "outputs": [],
   "source": [
    "y_pred = clf.predict(X_test)"
   ]
  },
  {
   "cell_type": "code",
   "execution_count": 7,
   "id": "ea4ed12a",
   "metadata": {},
   "outputs": [
    {
     "name": "stdout",
     "output_type": "stream",
     "text": [
      "Accuracy: 0.875\n"
     ]
    }
   ],
   "source": [
    "accuracy = accuracy_score(y_test, y_pred)\n",
    "print(\"Accuracy:\", accuracy)"
   ]
  },
  {
   "cell_type": "markdown",
   "id": "040976b1",
   "metadata": {},
   "source": [
    "Here we insert a new datarow, that was not part of training or testing"
   ]
  },
  {
   "cell_type": "code",
   "execution_count": 8,
   "id": "70262a1d",
   "metadata": {},
   "outputs": [],
   "source": [
    "row1 = [[1642.0,13645.0,2845.4867,2220.0,2084.0,2017684.7791010202,1420.3812905776779,1420.4523149690806,691.5]]\n",
    "row2 = [[1651.0,6485.0,2133.5005,2099.0,2075.0,47119.57435718572,217.05958260291112,217.07043639608256,276.0]]\n",
    "row3 = [[1661.0,7186.0,2130.8205,2098.0,2039.0,45066.76935668567,212.27873817165485,212.28935290467507,273.0]]\n",
    "row4 = [[1528.0,14528.0,2095.4517,2011.5,1896.0,253486.37050416044,503.44912540107765,503.4742997454393,332.0]]\n",
    "row5 = [[1496.0,25048.0,2107.5791,1979.0,1842.0,289298.068350025,537.8374648006496,537.8643586909482,373.5]]\n",
    "row6 = [[1549.0,5875.0,2098.9139,2018.0,1918.0,103383.1722040104,321.5164597447384,321.53253677351285,341.0]]\n",
    "row17 = [[1540.0,28141.0,2114.9409,1996.0,1837.0,316266.49585677567,562.3476408834574,562.375760374481,350.0]]\n",
    "row18 = [[1540.0,8239.0,2104.7403,2025.0,1906.0,113218.20487639763,336.46230554983424,336.4791299269505,333.5]]\n",
    "row19 = [[1536.0,10228.0,2144.3379,2092.0,2068.0,79810.14633822381,282.4927703917217,282.50689608967747,292.0]]\n",
    "row20 = [[1555.0,14932.0,2091.1211,2039.0,1887.0,88514.73490828082,297.4993839233789,297.5142600082907,303.0]]\n",
    "row7 = [[1513.0,26264.0,2873.137,2167.0,1869.0,2822719.3587668766,1680.011037711062,1680.0950445635142,879.0]]\n",
    "row8 = [[1592.0,20137.0,2984.9971,2216.5,2145.0,2973507.1472063106,1724.2997989014525,1724.386020358061,1432.5]]\n",
    "row9 = [[1542.0,23370.0,2947.6204,2206.0,1861.0,2954943.788882728,1718.9090419518539,1718.9949938503976,1114.0]]\n",
    "row10 = [[1580.0,23842.0,2943.4652,2196.0,1908.0,2970602.8674757075,1723.4575153420406,1723.543694681312,1148.0]]\n",
    "row11 = [[1586.0,18116.0,2999.9235,2209.0,2220.0,2874318.6987176216,1695.296807891689,1695.3815790899764,1998.5]]\n",
    "row12 = [[1565.0,26771.0,2989.5021,2212.0,1866.0,3009367.5815537455,1734.6661479361353,1734.7528877490724,1815.5]]\n",
    "row13 = [[1577.0,15075.0,2425.0778,2188.0,2128.0,586021.317878948,765.482015299615,765.5202922711768,521.0]]\n",
    "row14 = [[1477.0,13061.0,2423.8555,2229.0,2113.0,475466.05642539257,689.5059896909888,689.5404675763364,572.0]]\n",
    "row15 = [[1595.0,10839.0,2889.7134,2423.0,2123.0,1070308.1542758676,1034.5052554049398,1034.5569845474283,1767.5]]\n",
    "row16 = [[1526.0,15661.0,2417.1411,2183.0,2119.0,562937.4443352235,750.2540573637639,750.2915728803193,501.5]]"
   ]
  },
  {
   "cell_type": "code",
   "execution_count": 9,
   "id": "6cce3ea7",
   "metadata": {},
   "outputs": [
    {
     "name": "stdout",
     "output_type": "stream",
     "text": [
      "sichere Validierungsdaten 0\n",
      "Predicted Class1 : 0\n",
      "Predicted Class2 : 0\n",
      "Predicted Class3 : 0\n",
      "Predicted Class4 : 0\n",
      "Predicted Class5 : 1\n",
      "Predicted Class6 : 0\n",
      "Predicted Class17: 1\n",
      "Predicted Class18: 0\n",
      "Predicted Class19: 0\n",
      "Predicted Class20: 0\n",
      "------------------------------\n",
      "unsichere Validierungsdaten 1\n",
      "Predicted Class7 : 1\n",
      "Predicted Class8 : 1\n",
      "Predicted Class9 : 1\n",
      "Predicted Class10: 1\n",
      "Predicted Class11: 1\n",
      "Predicted Class12: 1\n",
      "Predicted Class13: 1\n",
      "Predicted Class14: 1\n",
      "Predicted Class15: 0\n",
      "Predicted Class16: 1\n"
     ]
    }
   ],
   "source": [
    "print('sichere Validierungsdaten 0')\n",
    "yhat = clf.predict(row1)\n",
    "print('Predicted Class1 : %d' % yhat[0])\n",
    "yhat = clf.predict(row2)\n",
    "print('Predicted Class2 : %d' % yhat[0])\n",
    "yhat = clf.predict(row3)\n",
    "print('Predicted Class3 : %d' % yhat[0])\n",
    "yhat = clf.predict(row4)\n",
    "print('Predicted Class4 : %d' % yhat[0])\n",
    "yhat = clf.predict(row5)\n",
    "print('Predicted Class5 : %d' % yhat[0])\n",
    "yhat = clf.predict(row6)\n",
    "print('Predicted Class6 : %d' % yhat[0])\n",
    "yhat = clf.predict(row17)\n",
    "print('Predicted Class17: %d' % yhat[0])\n",
    "yhat = clf.predict(row18)\n",
    "print('Predicted Class18: %d' % yhat[0])\n",
    "yhat = clf.predict(row19)\n",
    "print('Predicted Class19: %d' % yhat[0])\n",
    "yhat = clf.predict(row20)\n",
    "print('Predicted Class20: %d' % yhat[0])\n",
    "print('------------------------------')\n",
    "print('unsichere Validierungsdaten 1')\n",
    "yhat = clf.predict(row7)\n",
    "print('Predicted Class7 : %d' % yhat[0])\n",
    "yhat = clf.predict(row8)\n",
    "print('Predicted Class8 : %d' % yhat[0])\n",
    "yhat = clf.predict(row9)\n",
    "print('Predicted Class9 : %d' % yhat[0])\n",
    "yhat = clf.predict(row10)\n",
    "print('Predicted Class10: %d' % yhat[0])\n",
    "yhat = clf.predict(row11)\n",
    "print('Predicted Class11: %d' % yhat[0])\n",
    "yhat = clf.predict(row12)\n",
    "print('Predicted Class12: %d' % yhat[0])\n",
    "yhat = clf.predict(row13)\n",
    "print('Predicted Class13: %d' % yhat[0])\n",
    "yhat = clf.predict(row14)\n",
    "print('Predicted Class14: %d' % yhat[0])\n",
    "yhat = clf.predict(row15)\n",
    "print('Predicted Class15: %d' % yhat[0])\n",
    "yhat = clf.predict(row16)\n",
    "print('Predicted Class16: %d' % yhat[0])"
   ]
  },
  {
   "cell_type": "code",
   "execution_count": 10,
   "id": "17e2fcc5",
   "metadata": {},
   "outputs": [
    {
     "name": "stdout",
     "output_type": "stream",
     "text": [
      "5 [[0.4 0.6]]\n",
      "17 [[0.35 0.65]]\n",
      "15 [[0.74 0.26]]\n"
     ]
    }
   ],
   "source": [
    "#print('1', clf.predict_proba(row1))\n",
    "#print('4', clf.predict_proba(row4))\n",
    "print('5',clf.predict_proba(row5))\n",
    "print('17',clf.predict_proba(row17))\n",
    "#print('14',clf.predict_proba(row14))\n",
    "print('15',clf.predict_proba(row15))\n",
    "#print('18',clf.predict_proba(row18))\n",
    "#print('19',clf.predict_proba(row19))\n",
    "#print('20',clf.predict_proba(row20))\n",
    "#print('15',clf.predict_proba(row15))"
   ]
  },
  {
   "cell_type": "code",
   "execution_count": 12,
   "id": "1a3b69c5",
   "metadata": {},
   "outputs": [],
   "source": [
    "# outputreport = open(r\"C:\\Master_Projekt\\extratree_classifier\\classification_report.txt\", \"a\")"
   ]
  },
  {
   "cell_type": "code",
   "execution_count": 13,
   "id": "57f15a37",
   "metadata": {},
   "outputs": [
    {
     "name": "stdout",
     "output_type": "stream",
     "text": [
      "              precision    recall  f1-score   support\n",
      "\n",
      "         0.0       0.90      0.95      0.93        20\n",
      "         1.0       0.91      0.83      0.87        12\n",
      "\n",
      "    accuracy                           0.91        32\n",
      "   macro avg       0.91      0.89      0.90        32\n",
      "weighted avg       0.91      0.91      0.91        32\n",
      "\n",
      "              precision    recall  f1-score   support\n",
      "\n",
      "         0.0       0.90      0.95      0.93        20\n",
      "         1.0       0.91      0.83      0.87        12\n",
      "\n",
      "    accuracy                           0.91        32\n",
      "   macro avg       0.91      0.89      0.90        32\n",
      "weighted avg       0.91      0.91      0.91        32\n",
      "\n"
     ]
    }
   ],
   "source": [
    "cr = (classification_report(y_test,clf.predict(X_test)))\n",
    "print(classification_report(y_test,clf.predict(X_test)))\n",
    "print (cr)"
   ]
  },
  {
   "cell_type": "code",
   "execution_count": 14,
   "id": "9f3b41eb",
   "metadata": {},
   "outputs": [],
   "source": [
    "#outputreport.write (cr)\n",
    "#outputreport.write ('\\n')\n",
    "#outputreport.close()"
   ]
  },
  {
   "cell_type": "code",
   "execution_count": 19,
   "id": "4cec949d",
   "metadata": {},
   "outputs": [
    {
     "data": {
      "text/plain": [
       "(<160x6544 sparse matrix of type '<class 'numpy.int64'>'\n",
       " \twith 130677 stored elements in Compressed Sparse Row format>,\n",
       " array([   0,   77,  134,  203,  260,  335,  424,  495,  566,  633,  708,\n",
       "         775,  838,  899,  954, 1029, 1096, 1171, 1220, 1291, 1350, 1419,\n",
       "        1470, 1523, 1580, 1651, 1702, 1771, 1826, 1905, 1968, 2035, 2104,\n",
       "        2167, 2232, 2317, 2386, 2441, 2500, 2575, 2644, 2693, 2748, 2807,\n",
       "        2872, 2927, 2980, 3035, 3088, 3147, 3218, 3285, 3354, 3419, 3486,\n",
       "        3541, 3608, 3679, 3738, 3805, 3872, 3933, 3996, 4061, 4134, 4185,\n",
       "        4240, 4311, 4398, 4461, 4514, 4577, 4652, 4735, 4820, 4879, 4946,\n",
       "        5009, 5064, 5125, 5188, 5259, 5322, 5385, 5452, 5503, 5576, 5655,\n",
       "        5734, 5793, 5858, 5915, 5982, 6065, 6134, 6197, 6270, 6337, 6394,\n",
       "        6463, 6544]))"
      ]
     },
     "execution_count": 19,
     "metadata": {},
     "output_type": "execute_result"
    }
   ],
   "source": [
    "clf.decision_path(X)"
   ]
  },
  {
   "cell_type": "code",
   "execution_count": 20,
   "id": "ff28a5d8",
   "metadata": {},
   "outputs": [
    {
     "data": {
      "text/plain": [
       "array([[-0.02020271, -3.91202301]])"
      ]
     },
     "execution_count": 20,
     "metadata": {},
     "output_type": "execute_result"
    }
   ],
   "source": [
    "clf.predict_log_proba(row3)"
   ]
  },
  {
   "cell_type": "code",
   "execution_count": 21,
   "id": "c85432bd",
   "metadata": {},
   "outputs": [
    {
     "data": {
      "text/plain": [
       "array([[0.13, 0.87]])"
      ]
     },
     "execution_count": 21,
     "metadata": {},
     "output_type": "execute_result"
    }
   ],
   "source": [
    "clf.predict_proba(row5)"
   ]
  },
  {
   "cell_type": "code",
   "execution_count": 16,
   "id": "b4719df7",
   "metadata": {},
   "outputs": [
    {
     "name": "stdout",
     "output_type": "stream",
     "text": [
      "Score:  1.0\n"
     ]
    }
   ],
   "source": [
    "score = clf.score(X_train, y_train)\n",
    "print(\"Score: \", score)"
   ]
  },
  {
   "cell_type": "code",
   "execution_count": null,
   "id": "b6c00325",
   "metadata": {},
   "outputs": [],
   "source": []
  }
 ],
 "metadata": {
  "kernelspec": {
   "display_name": "Python 3 (ipykernel)",
   "language": "python",
   "name": "python3"
  },
  "language_info": {
   "codemirror_mode": {
    "name": "ipython",
    "version": 3
   },
   "file_extension": ".py",
   "mimetype": "text/x-python",
   "name": "python",
   "nbconvert_exporter": "python",
   "pygments_lexer": "ipython3",
   "version": "3.8.16"
  }
 },
 "nbformat": 4,
 "nbformat_minor": 5
}
